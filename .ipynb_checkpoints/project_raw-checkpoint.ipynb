{
 "cells": [
  {
   "cell_type": "code",
   "execution_count": null,
   "id": "cd25d046-9bf9-4aeb-b088-19bd731605ad",
   "metadata": {},
   "outputs": [],
   "source": [
    "#pip install pandas"
   ]
  },
  {
   "cell_type": "code",
   "execution_count": null,
   "id": "94fdf3cf-a814-4152-b52a-9d8a3daa1e27",
   "metadata": {},
   "outputs": [],
   "source": [
    "#pip install openpyxl"
   ]
  },
  {
   "cell_type": "code",
   "execution_count": null,
   "id": "ad4fbe18-53bf-4e29-943e-304a5ded1908",
   "metadata": {},
   "outputs": [],
   "source": [
    "#pip install matplotlib"
   ]
  },
  {
   "cell_type": "code",
   "execution_count": 33,
   "id": "1aed0a09-a122-4ca6-87bd-a04437adc15e",
   "metadata": {},
   "outputs": [
    {
     "name": "stdout",
     "output_type": "stream",
     "text": [
      "Collecting seaborn\n",
      "  Downloading seaborn-0.13.2-py3-none-any.whl.metadata (5.4 kB)\n",
      "Requirement already satisfied: numpy!=1.24.0,>=1.20 in c:\\users\\mi\\appdata\\local\\programs\\python\\python313\\lib\\site-packages (from seaborn) (2.1.3)\n",
      "Requirement already satisfied: pandas>=1.2 in c:\\users\\mi\\appdata\\local\\programs\\python\\python313\\lib\\site-packages (from seaborn) (2.2.3)\n",
      "Requirement already satisfied: matplotlib!=3.6.1,>=3.4 in c:\\users\\mi\\appdata\\local\\programs\\python\\python313\\lib\\site-packages (from seaborn) (3.9.2)\n",
      "Requirement already satisfied: contourpy>=1.0.1 in c:\\users\\mi\\appdata\\local\\programs\\python\\python313\\lib\\site-packages (from matplotlib!=3.6.1,>=3.4->seaborn) (1.3.1)\n",
      "Requirement already satisfied: cycler>=0.10 in c:\\users\\mi\\appdata\\local\\programs\\python\\python313\\lib\\site-packages (from matplotlib!=3.6.1,>=3.4->seaborn) (0.12.1)\n",
      "Requirement already satisfied: fonttools>=4.22.0 in c:\\users\\mi\\appdata\\local\\programs\\python\\python313\\lib\\site-packages (from matplotlib!=3.6.1,>=3.4->seaborn) (4.55.0)\n",
      "Requirement already satisfied: kiwisolver>=1.3.1 in c:\\users\\mi\\appdata\\local\\programs\\python\\python313\\lib\\site-packages (from matplotlib!=3.6.1,>=3.4->seaborn) (1.4.7)\n",
      "Requirement already satisfied: packaging>=20.0 in c:\\users\\mi\\appdata\\local\\programs\\python\\python313\\lib\\site-packages (from matplotlib!=3.6.1,>=3.4->seaborn) (24.2)\n",
      "Requirement already satisfied: pillow>=8 in c:\\users\\mi\\appdata\\local\\programs\\python\\python313\\lib\\site-packages (from matplotlib!=3.6.1,>=3.4->seaborn) (11.0.0)\n",
      "Requirement already satisfied: pyparsing>=2.3.1 in c:\\users\\mi\\appdata\\local\\programs\\python\\python313\\lib\\site-packages (from matplotlib!=3.6.1,>=3.4->seaborn) (3.2.0)\n",
      "Requirement already satisfied: python-dateutil>=2.7 in c:\\users\\mi\\appdata\\local\\programs\\python\\python313\\lib\\site-packages (from matplotlib!=3.6.1,>=3.4->seaborn) (2.9.0.post0)\n",
      "Requirement already satisfied: pytz>=2020.1 in c:\\users\\mi\\appdata\\local\\programs\\python\\python313\\lib\\site-packages (from pandas>=1.2->seaborn) (2024.2)\n",
      "Requirement already satisfied: tzdata>=2022.7 in c:\\users\\mi\\appdata\\local\\programs\\python\\python313\\lib\\site-packages (from pandas>=1.2->seaborn) (2024.2)\n",
      "Requirement already satisfied: six>=1.5 in c:\\users\\mi\\appdata\\local\\programs\\python\\python313\\lib\\site-packages (from python-dateutil>=2.7->matplotlib!=3.6.1,>=3.4->seaborn) (1.16.0)\n",
      "Downloading seaborn-0.13.2-py3-none-any.whl (294 kB)\n",
      "Installing collected packages: seaborn\n",
      "Successfully installed seaborn-0.13.2\n",
      "Note: you may need to restart the kernel to use updated packages.\n"
     ]
    },
    {
     "name": "stderr",
     "output_type": "stream",
     "text": [
      "\n",
      "[notice] A new release of pip is available: 24.2 -> 24.3.1\n",
      "[notice] To update, run: python.exe -m pip install --upgrade pip\n"
     ]
    }
   ],
   "source": [
    "#pip install seaborn"
   ]
  },
  {
   "cell_type": "code",
   "execution_count": 42,
   "id": "7106fdc8-aeaf-4c66-8eba-77f765c4e8de",
   "metadata": {},
   "outputs": [],
   "source": [
    "import pandas as pd\n",
    "import numpy as np\n",
    "import matplotlib.pyplot as plt\n",
    "import seaborn as sns"
   ]
  },
  {
   "cell_type": "code",
   "execution_count": 43,
   "id": "d29e1c30-d2c5-48ac-a049-fc0fecae34ca",
   "metadata": {},
   "outputs": [],
   "source": [
    "hotels = pd.read_excel('hotels.xlsx')"
   ]
  },
  {
   "cell_type": "code",
   "execution_count": 44,
   "id": "448fffca-7756-46c1-b776-36db74bcfb81",
   "metadata": {},
   "outputs": [],
   "source": [
    "guests = pd.read_excel('guests.xlsx')"
   ]
  },
  {
   "cell_type": "code",
   "execution_count": 45,
   "id": "c0197966-f6fc-4f71-9e84-a7d6be7cc2f6",
   "metadata": {},
   "outputs": [],
   "source": [
    "preferences = pd.read_excel('preferences.xlsx')"
   ]
  },
  {
   "cell_type": "code",
   "execution_count": 46,
   "id": "920cbd2d-6238-4f2e-aea7-9f333adfe7bf",
   "metadata": {},
   "outputs": [],
   "source": [
    "hotels = hotels.iloc[:, 1:]"
   ]
  },
  {
   "cell_type": "code",
   "execution_count": 47,
   "id": "897b5c6a-cc4a-4c44-9549-fa0a091b1cac",
   "metadata": {},
   "outputs": [],
   "source": [
    "preferences = preferences.iloc[:, 1:]"
   ]
  },
  {
   "cell_type": "code",
   "execution_count": 48,
   "id": "c76de22d-107c-40f5-89b0-52eeff899c7c",
   "metadata": {},
   "outputs": [],
   "source": [
    "guests.rename(columns={'Unnamed: 0': 'index'}, inplace=True)"
   ]
  },
  {
   "cell_type": "code",
   "execution_count": 49,
   "id": "c1e10279-af48-4055-8318-72792257b7f3",
   "metadata": {},
   "outputs": [
    {
     "data": {
      "text/html": [
       "<div>\n",
       "<style scoped>\n",
       "    .dataframe tbody tr th:only-of-type {\n",
       "        vertical-align: middle;\n",
       "    }\n",
       "\n",
       "    .dataframe tbody tr th {\n",
       "        vertical-align: top;\n",
       "    }\n",
       "\n",
       "    .dataframe thead th {\n",
       "        text-align: right;\n",
       "    }\n",
       "</style>\n",
       "<table border=\"1\" class=\"dataframe\">\n",
       "  <thead>\n",
       "    <tr style=\"text-align: right;\">\n",
       "      <th></th>\n",
       "      <th>hotel</th>\n",
       "      <th>rooms</th>\n",
       "      <th>price</th>\n",
       "    </tr>\n",
       "  </thead>\n",
       "  <tbody>\n",
       "  </tbody>\n",
       "</table>\n",
       "</div>"
      ],
      "text/plain": [
       "Empty DataFrame\n",
       "Columns: [hotel, rooms, price]\n",
       "Index: []"
      ]
     },
     "execution_count": 49,
     "metadata": {},
     "output_type": "execute_result"
    }
   ],
   "source": [
    "hotels[hotels['rooms'] == 0] #just in case"
   ]
  },
  {
   "cell_type": "code",
   "execution_count": 50,
   "id": "033a5ce2-35f9-4eeb-b63c-c805c0c7416a",
   "metadata": {},
   "outputs": [],
   "source": [
    "hotels_new = pd.DataFrame(columns = ['room_number', 'hotel_number', 'price'])\n",
    "for i in hotels['hotel']:\n",
    "    room_numbers = hotels[hotels['hotel'] == i]['rooms'].values[0]\n",
    "    price = hotels[hotels['hotel'] == i]['price'].values[0]\n",
    "    a = 0\n",
    "    for j in range(room_numbers):\n",
    "        a +=1 \n",
    "        hotels_new.loc[len(hotels_new)] = [a, i, price]\n",
    "    hotels_new"
   ]
  },
  {
   "cell_type": "code",
   "execution_count": 51,
   "id": "9e51b4ef-44ba-449c-9085-8b7e68e9b192",
   "metadata": {},
   "outputs": [],
   "source": [
    "random_numbers = np.random.permutation(len(hotels_new))"
   ]
  },
  {
   "cell_type": "code",
   "execution_count": 52,
   "id": "fc2a0729-bcee-4313-b1fa-e72cc65adb98",
   "metadata": {},
   "outputs": [],
   "source": [
    "hotels_new['random_number'] = random_numbers"
   ]
  },
  {
   "cell_type": "code",
   "execution_count": 53,
   "id": "7118c6b0-5d50-4c40-a71f-031bdf633bdb",
   "metadata": {},
   "outputs": [],
   "source": [
    "hotels_new2 = hotels_new[hotels_new['random_number'] <= 3999]"
   ]
  },
  {
   "cell_type": "code",
   "execution_count": 54,
   "id": "d20109a9-7112-4357-8600-998aa76cf78b",
   "metadata": {},
   "outputs": [],
   "source": [
    "merged_distribution = pd.merge(hotels_new2, guests, left_on = 'random_number', right_on = 'index', how = 'left')"
   ]
  },
  {
   "cell_type": "code",
   "execution_count": 55,
   "id": "d29f41d1-94f8-4a58-8a5e-1fe0690dadd3",
   "metadata": {},
   "outputs": [],
   "source": [
    "merged_distribution['price_final'] = merged_distribution['price'] * (1 - merged_distribution['discount'])"
   ]
  },
  {
   "cell_type": "code",
   "execution_count": 56,
   "id": "9539b666-8f1c-4ea0-9fbb-6ac56e011e1e",
   "metadata": {},
   "outputs": [],
   "source": [
    "#result_distribution_group = result_distribution.pivot_table(values='price_final', index='hotel_number', aggfunc='sum')"
   ]
  },
  {
   "cell_type": "markdown",
   "id": "3f157cf6-2eca-4ee1-85b2-aacd02566074",
   "metadata": {},
   "source": [
    "New price order - my own creation to increase total revenue, still it will increase reputation risks and damage guests' loyalty "
   ]
  },
  {
   "cell_type": "code",
   "execution_count": 57,
   "id": "709b025c-3659-445f-97a6-52d378778009",
   "metadata": {},
   "outputs": [],
   "source": [
    "hotels_new_price_order = hotels_new.sort_values(by='price', ascending=False)"
   ]
  },
  {
   "cell_type": "code",
   "execution_count": 58,
   "id": "9ee4953c-643b-4410-a466-ce10141f7891",
   "metadata": {},
   "outputs": [],
   "source": [
    "hotels_new_price_order = hotels_new_price_order.head(4000)"
   ]
  },
  {
   "cell_type": "code",
   "execution_count": 59,
   "id": "be291efd-67b6-4503-89ac-221d0ffe2a2f",
   "metadata": {},
   "outputs": [],
   "source": [
    "random_numbers2 = np.random.permutation(len(hotels_new_price_order))"
   ]
  },
  {
   "cell_type": "code",
   "execution_count": 60,
   "id": "fb0676b5-a404-4537-93ae-b1e0ba71ddf0",
   "metadata": {},
   "outputs": [],
   "source": [
    "hotels_new_price_order['random_number'] = random_numbers2"
   ]
  },
  {
   "cell_type": "code",
   "execution_count": 61,
   "id": "f0ccb52f-6b40-4a39-a33a-d66ef42e932d",
   "metadata": {},
   "outputs": [],
   "source": [
    "merged_distribution_order = pd.merge(hotels_new_price_order, guests, left_on = 'random_number', right_on = 'index', how = 'left')"
   ]
  },
  {
   "cell_type": "code",
   "execution_count": 62,
   "id": "c4f7ae9a-3cc0-4fec-acc1-17c4ded306a8",
   "metadata": {},
   "outputs": [],
   "source": [
    "merged_distribution_order['price_final'] = merged_distribution_order['price'] * (1 - merged_distribution_order['discount'])"
   ]
  },
  {
   "cell_type": "code",
   "execution_count": 63,
   "id": "5ef02fa4-97e4-4435-99fa-68b5a5bb925e",
   "metadata": {},
   "outputs": [],
   "source": [
    "#result_distribution_order_group = result_distribution_order.pivot_table(values='price_final', index='hotel_number', aggfunc='sum')"
   ]
  },
  {
   "cell_type": "markdown",
   "id": "92efa798-b629-4c99-8895-4382caf0b316",
   "metadata": {},
   "source": [
    "Compare Total Revenues between these two scenarios:"
   ]
  },
  {
   "cell_type": "code",
   "execution_count": 35,
   "id": "8df77da2-be35-4b7a-922f-85ab7f2ec6a0",
   "metadata": {},
   "outputs": [
    {
     "ename": "NameError",
     "evalue": "name 'result_distribution_group' is not defined",
     "output_type": "error",
     "traceback": [
      "\u001b[1;31m---------------------------------------------------------------------------\u001b[0m",
      "\u001b[1;31mNameError\u001b[0m                                 Traceback (most recent call last)",
      "Cell \u001b[1;32mIn[35], line 1\u001b[0m\n\u001b[1;32m----> 1\u001b[0m \u001b[38;5;28msum\u001b[39m(\u001b[43mresult_distribution_group\u001b[49m[\u001b[38;5;124m'\u001b[39m\u001b[38;5;124mprice_final\u001b[39m\u001b[38;5;124m'\u001b[39m]) \u001b[38;5;66;03m#first scenario without price ordering\u001b[39;00m\n",
      "\u001b[1;31mNameError\u001b[0m: name 'result_distribution_group' is not defined"
     ]
    }
   ],
   "source": [
    "#sum(result_distribution_group['price_final']) #first scenario without price ordering"
   ]
  },
  {
   "cell_type": "code",
   "execution_count": null,
   "id": "b5e66761-83c1-45a2-9ad1-ba23347e07c2",
   "metadata": {},
   "outputs": [],
   "source": [
    "#sum(result_distribution_order_group['price_final']) #second scenario with price ordering"
   ]
  },
  {
   "cell_type": "markdown",
   "id": "2647af08-8093-4640-b24f-2ca4e4530ac4",
   "metadata": {},
   "source": [
    "Visualisation part"
   ]
  },
  {
   "cell_type": "code",
   "execution_count": 64,
   "id": "f6787b3e-bb65-4733-be7d-bc6a30ce73de",
   "metadata": {},
   "outputs": [],
   "source": [
    "merged_distribution = pd.merge(merged_distribution, hotels, left_on = 'hotel_number', right_on = 'hotel', how = 'left')"
   ]
  },
  {
   "cell_type": "code",
   "execution_count": 65,
   "id": "ab88e630-d012-4ef6-b18d-0f9a11897704",
   "metadata": {},
   "outputs": [],
   "source": [
    "merged_distribution.rename(columns={'price_x': 'price'}, inplace=True)"
   ]
  },
  {
   "cell_type": "code",
   "execution_count": 66,
   "id": "f125a5b8-da83-4b7a-825a-d674be8f6c34",
   "metadata": {},
   "outputs": [],
   "source": [
    "pivot_for_visualisation = merged_distribution.pivot_table(values= ['guest', 'rooms', 'price', 'price_final'], index='hotel', \n",
    "                                                          aggfunc={'guest':'count', 'rooms':'mean', 'price':'mean', 'price_final':'sum'})"
   ]
  },
  {
   "cell_type": "code",
   "execution_count": 67,
   "id": "a4bec2b5-6bb9-466d-b3c7-0cc42e273c07",
   "metadata": {},
   "outputs": [],
   "source": [
    "pivot_for_visualisation = pivot_for_visualisation.reset_index()"
   ]
  },
  {
   "cell_type": "code",
   "execution_count": 68,
   "id": "5f6b532f-5662-4b7c-8bd4-9f9c23af8029",
   "metadata": {},
   "outputs": [
    {
     "data": {
      "text/plain": [
       "50"
      ]
     },
     "execution_count": 68,
     "metadata": {},
     "output_type": "execute_result"
    }
   ],
   "source": [
    "min(hotels['price']) #min price for defining categories of price"
   ]
  },
  {
   "cell_type": "code",
   "execution_count": 69,
   "id": "44342dee-31e5-4e20-aa34-420963fca8e4",
   "metadata": {},
   "outputs": [
    {
     "data": {
      "text/plain": [
       "299"
      ]
     },
     "execution_count": 69,
     "metadata": {},
     "output_type": "execute_result"
    }
   ],
   "source": [
    "max(hotels['price']) #max price for defining categories of price"
   ]
  },
  {
   "cell_type": "markdown",
   "id": "e1053afa-6e8c-4472-95c5-0bbfc27055d6",
   "metadata": {},
   "source": [
    "4 categories from 50 to 300 (for beauty numbers) means that we divide categories for 250/4 = 62,5 buckets:\n",
    "50 - 112,5 \n",
    "112, 5 - 175\n",
    "175-237,5\n",
    "237,5 - 300"
   ]
  },
  {
   "cell_type": "code",
   "execution_count": 70,
   "id": "6ba68025-4808-48cc-81e3-d519852a3e27",
   "metadata": {},
   "outputs": [],
   "source": [
    "conditions = [\n",
    "    (pivot_for_visualisation['price'] >= 50) & (pivot_for_visualisation['price'] < 112.5),\n",
    "    (pivot_for_visualisation['price'] >= 112.5) & (pivot_for_visualisation['price'] < 175),\n",
    "    (pivot_for_visualisation['price'] >= 175) & (pivot_for_visualisation['price'] < 237.5),\n",
    "    (pivot_for_visualisation['price'] >= 237.5)]"
   ]
  },
  {
   "cell_type": "code",
   "execution_count": 71,
   "id": "326c7855-1912-4f86-98c0-cad5409361e5",
   "metadata": {},
   "outputs": [],
   "source": [
    "categories = ['Economy', 'Affordable', 'Premium', 'Luxury']"
   ]
  },
  {
   "cell_type": "code",
   "execution_count": 72,
   "id": "d9cdd1b3-aae4-43c3-bd0e-7408314b7fbe",
   "metadata": {},
   "outputs": [],
   "source": [
    "# Assign price categories to hotels and order categories according to lowest and highest \n",
    "pivot_for_visualisation['price_category'] = np.select(conditions, categories, default='Unknown')\n",
    "pivot_for_visualisation['price_category'] = pd.Categorical(pivot_for_visualisation['price_category'], categories=categories, ordered=True)"
   ]
  },
  {
   "cell_type": "code",
   "execution_count": 73,
   "id": "fdce2062-1843-4474-8707-6637a172899b",
   "metadata": {},
   "outputs": [],
   "source": [
    "pivot_for_visualisation['check_in_percentage'] = pivot_for_visualisation['guest'] / pivot_for_visualisation['rooms'] "
   ]
  },
  {
   "cell_type": "code",
   "execution_count": 74,
   "id": "d21de389-b92b-415a-8a62-f6521d7a98e5",
   "metadata": {},
   "outputs": [
    {
     "data": {
      "image/png": "[encoded data removed]",
      "text/plain": [
       "<Figure size 600x400 with 1 Axes>"
      ]
     },
     "metadata": {},
     "output_type": "display_data"
    }
   ],
   "source": [
    "# Count hotels for every category\n",
    "category_counts = pivot_for_visualisation['price_category'].value_counts().reindex(categories)\n",
    "\n",
    "# Make graph\n",
    "plt.figure(figsize=(6, 4))\n",
    "ax = category_counts.plot(kind='bar', color=['#88c4e8', '#ff9b85', '#ffce64', '#7c8eb1'])  # Столбчатая диаграмма\n",
    "\n",
    "# Добавляем подписи с цифрами\n",
    "for p in ax.patches:\n",
    "    ax.annotate(f'{p.get_height()}',  # Текст (число гостей)\n",
    "                (p.get_x() + p.get_width() / 2, p.get_height()),  # Позиция (по центру столбика)\n",
    "                ha='center', va='center', fontsize=10, color='black', xytext=(0, 5), textcoords='offset points')\n",
    "\n",
    "# Bar charts settings\n",
    "plt.title('Hotels price distribution', fontsize=14)\n",
    "plt.xlabel('Price category', fontsize=12)\n",
    "plt.ylabel('Amount of hotels', fontsize=12)\n",
    "plt.xticks(rotation=45, ha='right')\n",
    "plt.tight_layout()\n",
    "\n",
    "# Graph depiction\n",
    "plt.show()"
   ]
  },
  {
   "cell_type": "code",
   "execution_count": 80,
   "id": "5908622c-33f8-4c7a-9347-20bd72dde524",
   "metadata": {},
   "outputs": [
    {
     "name": "stderr",
     "output_type": "stream",
     "text": [
      "C:\\Users\\Mi\\AppData\\Local\\Temp\\ipykernel_8748\\1749024939.py:2: FutureWarning: The default of observed=False is deprecated and will be changed to True in a future version of pandas. Pass observed=False to retain current behavior or observed=True to adopt the future default and silence this warning.\n",
      "  category_guests = pivot_for_visualisation.groupby('price_category')['guest'].sum()\n"
     ]
    },
    {
     "data": {
      "image/png": "[encoded data removed]",
      "text/plain": [
       "<Figure size 600x400 with 1 Axes>"
      ]
     },
     "metadata": {},
     "output_type": "display_data"
    }
   ],
   "source": [
    "# Группируем данные по ценовой категории и суммируем количество гостей\n",
    "category_guests = pivot_for_visualisation.groupby('price_category')['guest'].sum()\n",
    "\n",
    "# Строим график\n",
    "plt.figure(figsize=(6, 4))  # Устанавливаем размер графика\n",
    "ax = category_guests.plot(kind='bar', color=['#88c4e8', '#ff9b85', '#ffce64', '#7c8eb1'])  # Столбчатая диаграмма\n",
    "\n",
    "# Добавляем подписи с цифрами\n",
    "for p in ax.patches:\n",
    "    ax.annotate(f'{p.get_height()}',  # Текст (число гостей)\n",
    "                (p.get_x() + p.get_width() / 2, p.get_height()),  # Позиция (по центру столбика)\n",
    "                ha='center', va='center', fontsize=10, color='black', xytext=(0, 5), textcoords='offset points')\n",
    "\n",
    "# Настройка графика\n",
    "plt.title('Distribution of Guests by Price Category', fontsize=12)\n",
    "plt.xlabel('Price Category', fontsize=10)\n",
    "plt.ylabel('Total Number of Guests', fontsize=10)\n",
    "plt.xticks(rotation=45, ha='right')\n",
    "plt.tight_layout()  # Улучшает расположение меток\n",
    "\n",
    "# Показываем график\n",
    "plt.show()"
   ]
  },
  {
   "cell_type": "code",
   "execution_count": 82,
   "id": "66f3cb24-2e8b-48e2-94d8-16972481fb37",
   "metadata": {},
   "outputs": [
    {
     "name": "stderr",
     "output_type": "stream",
     "text": [
      "C:\\Users\\Mi\\AppData\\Local\\Temp\\ipykernel_8748\\3278521681.py:2: FutureWarning: The default of observed=False is deprecated and will be changed to True in a future version of pandas. Pass observed=False to retain current behavior or observed=True to adopt the future default and silence this warning.\n",
      "  category_revenue = pivot_for_visualisation.groupby('price_category')['price_final'].sum()\n"
     ]
    },
    {
     "data": {
      "image/png": "[encoded data removed]",
      "text/plain": [
       "<Figure size 600x400 with 1 Axes>"
      ]
     },
     "metadata": {},
     "output_type": "display_data"
    }
   ],
   "source": [
    "# Группируем данные по категориям и суммируем выручку\n",
    "category_revenue = pivot_for_visualisation.groupby('price_category')['price_final'].sum()\n",
    "\n",
    "# Строим график\n",
    "plt.figure(figsize=(6, 4))  # Устанавливаем размер графика\n",
    "ax = category_revenue.plot(kind='bar', color=['#88c4e8', '#ff9b85', '#ffce64', '#7c8eb1'])  # Столбчатая диаграмма\n",
    "\n",
    "# Добавляем подписи с округленной выручкой до сотых\n",
    "for p in ax.patches:\n",
    "    revenue = round(p.get_height(), 2)  # Округляем выручку до сотых\n",
    "    ax.annotate(f'{revenue}',  # Текст (округленная сумма выручки)\n",
    "                (p.get_x() + p.get_width() / 2, p.get_height()),  # Позиция (по центру столбика)\n",
    "                ha='center', va='center', fontsize=8, color='black', xytext=(0, 5), textcoords='offset points')\n",
    "\n",
    "# Настройка графика\n",
    "plt.title('Total Revenue distribution', fontsize=12)\n",
    "plt.xlabel('Price category', fontsize=10)\n",
    "plt.ylabel('Total Revenue', fontsize=10)\n",
    "plt.xticks(rotation=45, ha='right')  # Поворот меток оси X\n",
    "plt.tight_layout()  # Улучшаем расположение элементов графика\n",
    "\n",
    "# Показываем график\n",
    "plt.show()"
   ]
  },
  {
   "cell_type": "code",
   "execution_count": 90,
   "id": "ce8b078a-9ee5-4727-ba3d-e054a08fccc5",
   "metadata": {},
   "outputs": [
    {
     "data": {
      "image/png": "[encoded data removed]",
      "text/plain": [
       "<Figure size 600x400 with 1 Axes>"
      ]
     },
     "metadata": {},
     "output_type": "display_data"
    }
   ],
   "source": [
    "# Строим box plot (ящики с усами)\n",
    "plt.figure(figsize=(6, 4))\n",
    "ax = plt.boxplot(pivot_for_visualisation['price_final'], patch_artist=True, notch=True, vert=False, widths=0.7, \n",
    "                 medianprops=dict(color='brown', linewidth=2), flierprops=dict(marker='o', color='green', markersize=10, alpha=0.8),\n",
    "                boxprops=dict(facecolor='beige', color='brown'))\n",
    "\n",
    "# Настройка графика\n",
    "plt.title('Distribution of Hotel Revenue (Box Plot)', fontsize=12)\n",
    "plt.xlabel('Revenue', fontsize=10)\n",
    "plt.yticks([1], ['Hotels'])\n",
    "plt.grid(True, linestyle='--', alpha=0.7)\n",
    "\n",
    "# Аннотируем медиану\n",
    "median_value = round(pivot_for_visualisation['price_final'].median(), 2)\n",
    "plt.annotate(f'Median: {median_value}', xy=(median_value, 1), xytext=(median_value + 100, 1.05),\n",
    "             arrowprops=dict(arrowstyle=\"->\", color='brown'), fontsize=12, color='brown')\n",
    "\n",
    "# Показываем график\n",
    "plt.tight_layout()\n",
    "plt.show()"
   ]
  },
  {
   "cell_type": "code",
   "execution_count": 117,
   "id": "aa628166-000a-4a84-b1f7-01d490bec95f",
   "metadata": {},
   "outputs": [
    {
     "data": {
      "image/png": "[encoded data removed]",
      "text/plain": [
       "<Figure size 600x400 with 1 Axes>"
      ]
     },
     "metadata": {},
     "output_type": "display_data"
    }
   ],
   "source": [
    "# Извлекаем значения для осей x и y (замените 'x_column' и 'y_column' на реальные имена столбцов)\n",
    "x = pivot_for_visualisation['guest']  # замените 'x_column' на имя вашего столбца для оси x\n",
    "y = pivot_for_visualisation['price_final']  # замените 'y_column' на имя вашего столбца для оси y\n",
    "\n",
    "# Строим диаграмму рассеяния\n",
    "plt.figure(figsize=(6, 4))\n",
    "plt.scatter(x, y, alpha=0.5, color='green')\n",
    "\n",
    "# Настройка оси X, чтобы отображались только целые числа\n",
    "plt.xticks(range(int(x.min()), int(x.max())+1, 1))  # шаг 1\n",
    "\n",
    "# Выбираем только несколько ключевых точек для подписей (например, максимальные и минимальные)\n",
    "key_points_indices = [x.idxmax(), x.idxmin(),y.idxmax(), y.idxmin()]  # Индексы точек с максимальными и минимальными значениями\n",
    "\n",
    "# Подписываем только ключевые точки\n",
    "for idx in key_points_indices:\n",
    "    plt.text(x[idx], y[idx], f'({y[idx]:.2f})', fontsize=7, ha='center', va = 'bottom', color='red')\n",
    "\n",
    "# Настройка графика\n",
    "plt.title('Scatter Plot of price distribution according to number of guests', fontsize=14)\n",
    "plt.xlabel('Number of guests', fontsize=12)  # Замените на нужную метку оси x\n",
    "plt.ylabel('Total Revenue of hotel', fontsize=12)  # Замените на нужную метку оси y\n",
    "plt.grid(True, linestyle='--', alpha=0.7)\n",
    "\n",
    "# Показываем график\n",
    "plt.tight_layout()\n",
    "plt.show()"
   ]
  },
  {
   "cell_type": "code",
   "execution_count": 129,
   "id": "e52350f3-3d4e-4dd3-9993-e2b91bba8290",
   "metadata": {},
   "outputs": [
    {
     "data": {
      "image/png": "[encoded data removed]",
      "text/plain": [
       "<Figure size 600x400 with 1 Axes>"
      ]
     },
     "metadata": {},
     "output_type": "display_data"
    }
   ],
   "source": [
    "# Столбцы, которые вас интересуют:\n",
    "x = pivot_for_visualisation.index  # Индекс отелей (используем индексы вместо названий)\n",
    "y = pivot_for_visualisation['check_in_percentage']  # Процент заселения\n",
    "\n",
    "# Строим диаграмму рассеяния\n",
    "plt.figure(figsize=(6, 4))\n",
    "plt.scatter(x, y, alpha=0.5, color='green')\n",
    "\n",
    "# Найдем индексы 3 самых незаселённых отелей\n",
    "bottom_3_hotels = pivot_for_visualisation.nsmallest(3, 'check_in_percentage')\n",
    "\n",
    "# Добавляем подписи для этих отелей\n",
    "for idx in bottom_3_hotels.index:\n",
    "    plt.text(idx, bottom_3_hotels.loc[idx, 'check_in_percentage'], \n",
    "             f'Hotel {idx} ({bottom_3_hotels.loc[idx, \"check_in_percentage\"]:.2f})', \n",
    "             fontsize=8, ha='right', va='bottom', color='red')\n",
    "\n",
    "# Настройка графика\n",
    "plt.title('Hotel check in Percentage', fontsize=16)\n",
    "plt.xlabel('Hotel Index', fontsize=12)  # Название оси X\n",
    "plt.ylabel('Check in Percentage', fontsize=12)\n",
    "\n",
    "# Отключаем метки на оси X, так как их слишком много\n",
    "plt.xticks([])  # Отключаем метки\n",
    "\n",
    "# Настройка сетки\n",
    "plt.grid(True, linestyle='--', alpha=0.7)\n",
    "\n",
    "# Показываем график\n",
    "plt.tight_layout()\n",
    "plt.show()"
   ]
  },
  {
   "cell_type": "code",
   "execution_count": 78,
   "id": "67becb0b-e01b-494b-840d-c623a800264c",
   "metadata": {},
   "outputs": [],
   "source": [
    "# Агрегируем предпочтения по гостям, создавая список отелей по приоритетам\n",
    "df_guest_preferences = preferences.groupby('guest')['hotel'].apply(list).reset_index()\n",
    "df_guest_preferences.columns = ['guest', 'priority']\n",
    "\n",
    "# Мержим данные о предпочтениях и фактическом расселении\n",
    "df_for_satisfaction = pd.merge(df_guest_preferences, merged_distribution, on='guest')\n",
    "\n",
    "# Функция для расчета удовлетворенности\n",
    "def calculate_satisfaction(row):\n",
    "    # Найдем индекс фактического отеля в списке предпочтений\n",
    "    preferences_list = row['priority']\n",
    "    \n",
    "    if row['hotel_number'] in preferences_list:\n",
    "        satisfaction = 1 - preferences_list.index(row['hotel_number']) / len(preferences_list)\n",
    "    else:\n",
    "        satisfaction = 0  # Если отель не в списке предпочтений, то удовлетворенность минимальна\n",
    "    return satisfaction\n",
    "\n",
    "# Применяем функцию для каждого гостя\n",
    "df_for_satisfaction['satisfaction'] = df_for_satisfaction.apply(calculate_satisfaction, axis=1)"
   ]
  },
  {
   "cell_type": "code",
   "execution_count": 31,
   "id": "c40bad1d-674a-4d3f-b174-4c79cf476309",
   "metadata": {},
   "outputs": [
    {
     "data": {
      "image/png": "[encoded data removed]",
      "text/plain": [
       "<Figure size 600x400 with 1 Axes>"
      ]
     },
     "metadata": {},
     "output_type": "display_data"
    }
   ],
   "source": [
    "# Строим гистограмму для отображения распределения удовлетворенности\n",
    "plt.figure(figsize=(6, 4))\n",
    "plt.hist(df_for_satisfaction['satisfaction'], bins=20, color='skyblue', edgecolor='black')\n",
    "plt.title('Distribution of Guest Satisfaction', fontsize=14)\n",
    "plt.xlabel('Satisfaction Level', fontsize=12)\n",
    "plt.ylabel('Number of Guests', fontsize=12)\n",
    "plt.grid(True, linestyle='--', alpha=0.7)\n",
    "plt.show()"
   ]
  },
  {
   "cell_type": "code",
   "execution_count": 75,
   "id": "3182e04e-1d0f-41b4-8712-4287f3710ed2",
   "metadata": {},
   "outputs": [
    {
     "data": {
      "image/png": "[encoded data removed]",
      "text/plain": [
       "<Figure size 1400x200 with 2 Axes>"
      ]
     },
     "metadata": {},
     "output_type": "display_data"
    }
   ],
   "source": [
    "# Агрегируем данные: для каждого отеля считаем среднюю удовлетворенность гостей\n",
    "hotel_satisfaction = df_for_satisfaction.groupby('hotel_number')['satisfaction'].mean()\n",
    "\n",
    "# Подготовим данные для отображения\n",
    "data = hotel_satisfaction.values.reshape(1, -1)\n",
    "\n",
    "# Строим график без осей и подписей\n",
    "plt.figure(figsize=(14, 2))  # Уменьшаем высоту, так как подписей нет\n",
    "plt.imshow(data, aspect='auto', cmap='YlGnBu', interpolation='nearest')\n",
    "\n",
    "# Добавляем цветовую шкалу (если нужно)\n",
    "plt.colorbar(label='Satisfaction')\n",
    "\n",
    "# Убираем оси\n",
    "plt.xticks([])  # Убираем метки оси X\n",
    "plt.yticks([])  # Убираем метки оси Y\n",
    "\n",
    "# Добавляем заголовок\n",
    "plt.title('Guest Satisfaction by Hotel', fontsize=16)\n",
    "\n",
    "# Улучшаем интерпретацию графика с помощью tight_layout\n",
    "plt.tight_layout()\n",
    "\n",
    "# Показываем график\n",
    "plt.show()"
   ]
  },
  {
   "cell_type": "markdown",
   "id": "0ba821d4-c107-43d2-8508-60407a43fa3b",
   "metadata": {},
   "source": [
    "Part 2"
   ]
  },
  {
   "cell_type": "code",
   "execution_count": 35,
   "id": "277d927c-601b-4c4e-8772-6d9b369e309e",
   "metadata": {},
   "outputs": [],
   "source": [
    "start_df = preferences[preferences['priority'] == 1]"
   ]
  },
  {
   "cell_type": "code",
   "execution_count": 36,
   "id": "a381656d-6fa5-4f17-9baf-b8784fd2e2bf",
   "metadata": {},
   "outputs": [
    {
     "name": "stderr",
     "output_type": "stream",
     "text": [
      "C:\\Users\\Mi\\AppData\\Local\\Temp\\ipykernel_14908\\3157429541.py:1: SettingWithCopyWarning: \n",
      "A value is trying to be set on a copy of a slice from a DataFrame.\n",
      "Try using .loc[row_indexer,col_indexer] = value instead\n",
      "\n",
      "See the caveats in the documentation: https://pandas.pydata.org/pandas-docs/stable/user_guide/indexing.html#returning-a-view-versus-a-copy\n",
      "  start_df['rn'] = start_df.groupby('hotel').cumcount() + 1\n"
     ]
    }
   ],
   "source": [
    "start_df['rn'] = start_df.groupby('hotel').cumcount() + 1"
   ]
  },
  {
   "cell_type": "code",
   "execution_count": 37,
   "id": "4f7dca6c-9668-47ea-83fe-f28425c11c78",
   "metadata": {},
   "outputs": [],
   "source": [
    "df_hotels = pd.merge(start_df, hotels, on = 'hotel', how = 'left')"
   ]
  },
  {
   "cell_type": "code",
   "execution_count": 38,
   "id": "a5a4b0ba-d1b1-475d-9372-d61b8be9392b",
   "metadata": {},
   "outputs": [],
   "source": [
    "df_full = pd.merge(df_hotels, guests, on = 'guest', how = 'left')"
   ]
  },
  {
   "cell_type": "code",
   "execution_count": 39,
   "id": "fa085fba-1967-44c1-b459-f64347f1aae5",
   "metadata": {},
   "outputs": [],
   "source": [
    "guests_first_priority = df_full[df_full['rn'] <= df_full['rooms']]"
   ]
  },
  {
   "cell_type": "code",
   "execution_count": 40,
   "id": "a9cef526-abd7-44ec-b498-ad6ecf72b257",
   "metadata": {},
   "outputs": [],
   "source": [
    "guests_second_priority = df_full[df_full['rn'] > df_full['rooms']]"
   ]
  },
  {
   "cell_type": "code",
   "execution_count": 41,
   "id": "e89b3e18-d96a-44b6-8e46-a73d2e678711",
   "metadata": {},
   "outputs": [
    {
     "data": {
      "text/html": [
       "<div>\n",
       "<style scoped>\n",
       "    .dataframe tbody tr th:only-of-type {\n",
       "        vertical-align: middle;\n",
       "    }\n",
       "\n",
       "    .dataframe tbody tr th {\n",
       "        vertical-align: top;\n",
       "    }\n",
       "\n",
       "    .dataframe thead th {\n",
       "        text-align: right;\n",
       "    }\n",
       "</style>\n",
       "<table border=\"1\" class=\"dataframe\">\n",
       "  <thead>\n",
       "    <tr style=\"text-align: right;\">\n",
       "      <th></th>\n",
       "      <th>guest</th>\n",
       "      <th>hotel</th>\n",
       "      <th>priority</th>\n",
       "      <th>rn</th>\n",
       "      <th>rooms</th>\n",
       "      <th>price</th>\n",
       "      <th>index</th>\n",
       "      <th>discount</th>\n",
       "    </tr>\n",
       "  </thead>\n",
       "  <tbody>\n",
       "    <tr>\n",
       "      <th>170</th>\n",
       "      <td>guest_171</td>\n",
       "      <td>hotel_1</td>\n",
       "      <td>1</td>\n",
       "      <td>1</td>\n",
       "      <td>13</td>\n",
       "      <td>273</td>\n",
       "      <td>170</td>\n",
       "      <td>0.19</td>\n",
       "    </tr>\n",
       "    <tr>\n",
       "      <th>305</th>\n",
       "      <td>guest_306</td>\n",
       "      <td>hotel_1</td>\n",
       "      <td>1</td>\n",
       "      <td>2</td>\n",
       "      <td>13</td>\n",
       "      <td>273</td>\n",
       "      <td>305</td>\n",
       "      <td>0.03</td>\n",
       "    </tr>\n",
       "    <tr>\n",
       "      <th>455</th>\n",
       "      <td>guest_456</td>\n",
       "      <td>hotel_1</td>\n",
       "      <td>1</td>\n",
       "      <td>3</td>\n",
       "      <td>13</td>\n",
       "      <td>273</td>\n",
       "      <td>455</td>\n",
       "      <td>0.12</td>\n",
       "    </tr>\n",
       "    <tr>\n",
       "      <th>599</th>\n",
       "      <td>guest_600</td>\n",
       "      <td>hotel_1</td>\n",
       "      <td>1</td>\n",
       "      <td>4</td>\n",
       "      <td>13</td>\n",
       "      <td>273</td>\n",
       "      <td>599</td>\n",
       "      <td>0.17</td>\n",
       "    </tr>\n",
       "    <tr>\n",
       "      <th>1359</th>\n",
       "      <td>guest_1360</td>\n",
       "      <td>hotel_1</td>\n",
       "      <td>1</td>\n",
       "      <td>5</td>\n",
       "      <td>13</td>\n",
       "      <td>273</td>\n",
       "      <td>1359</td>\n",
       "      <td>0.04</td>\n",
       "    </tr>\n",
       "    <tr>\n",
       "      <th>1391</th>\n",
       "      <td>guest_1392</td>\n",
       "      <td>hotel_1</td>\n",
       "      <td>1</td>\n",
       "      <td>6</td>\n",
       "      <td>13</td>\n",
       "      <td>273</td>\n",
       "      <td>1391</td>\n",
       "      <td>0.19</td>\n",
       "    </tr>\n",
       "    <tr>\n",
       "      <th>3076</th>\n",
       "      <td>guest_3077</td>\n",
       "      <td>hotel_1</td>\n",
       "      <td>1</td>\n",
       "      <td>7</td>\n",
       "      <td>13</td>\n",
       "      <td>273</td>\n",
       "      <td>3076</td>\n",
       "      <td>0.11</td>\n",
       "    </tr>\n",
       "    <tr>\n",
       "      <th>3106</th>\n",
       "      <td>guest_3107</td>\n",
       "      <td>hotel_1</td>\n",
       "      <td>1</td>\n",
       "      <td>8</td>\n",
       "      <td>13</td>\n",
       "      <td>273</td>\n",
       "      <td>3106</td>\n",
       "      <td>0.08</td>\n",
       "    </tr>\n",
       "    <tr>\n",
       "      <th>3699</th>\n",
       "      <td>guest_3700</td>\n",
       "      <td>hotel_1</td>\n",
       "      <td>1</td>\n",
       "      <td>9</td>\n",
       "      <td>13</td>\n",
       "      <td>273</td>\n",
       "      <td>3699</td>\n",
       "      <td>0.01</td>\n",
       "    </tr>\n",
       "    <tr>\n",
       "      <th>3867</th>\n",
       "      <td>guest_3868</td>\n",
       "      <td>hotel_1</td>\n",
       "      <td>1</td>\n",
       "      <td>10</td>\n",
       "      <td>13</td>\n",
       "      <td>273</td>\n",
       "      <td>3867</td>\n",
       "      <td>0.08</td>\n",
       "    </tr>\n",
       "  </tbody>\n",
       "</table>\n",
       "</div>"
      ],
      "text/plain": [
       "           guest    hotel  priority  rn  rooms  price  index  discount\n",
       "170    guest_171  hotel_1         1   1     13    273    170      0.19\n",
       "305    guest_306  hotel_1         1   2     13    273    305      0.03\n",
       "455    guest_456  hotel_1         1   3     13    273    455      0.12\n",
       "599    guest_600  hotel_1         1   4     13    273    599      0.17\n",
       "1359  guest_1360  hotel_1         1   5     13    273   1359      0.04\n",
       "1391  guest_1392  hotel_1         1   6     13    273   1391      0.19\n",
       "3076  guest_3077  hotel_1         1   7     13    273   3076      0.11\n",
       "3106  guest_3107  hotel_1         1   8     13    273   3106      0.08\n",
       "3699  guest_3700  hotel_1         1   9     13    273   3699      0.01\n",
       "3867  guest_3868  hotel_1         1  10     13    273   3867      0.08"
      ]
     },
     "execution_count": 41,
     "metadata": {},
     "output_type": "execute_result"
    }
   ],
   "source": [
    "guests_first_priority[guests_first_priority['hotel'] == 'hotel_1'] #just check everything is alright"
   ]
  },
  {
   "cell_type": "code",
   "execution_count": 42,
   "id": "7bcf0dca-b1ab-4ccc-b395-1eb2ee59ba0c",
   "metadata": {},
   "outputs": [],
   "source": [
    "hotels_rest = guests_first_priority.pivot_table(values= ['guest', 'rooms'], index='hotel', aggfunc={'guest':'count', 'rooms':'mean'})"
   ]
  },
  {
   "cell_type": "code",
   "execution_count": 43,
   "id": "ed6e11d5-ef0a-4b09-9cb9-08fabcba83bc",
   "metadata": {},
   "outputs": [],
   "source": [
    "hotels_rest['rooms'] = hotels_rest['rooms'].astype(int) #можно не делать в принципе"
   ]
  },
  {
   "cell_type": "code",
   "execution_count": 44,
   "id": "cf1a872f-1ab4-49c3-b296-3e97488c5edc",
   "metadata": {},
   "outputs": [],
   "source": [
    "hotels_rest['rest'] = hotels_rest['rooms'] - hotels_rest['guest']"
   ]
  },
  {
   "cell_type": "markdown",
   "id": "794310c7-874f-4830-b03c-fd5be96e0636",
   "metadata": {},
   "source": [
    "Снова идем по вторым приоритетам для оставшихся 602 гостей с учетом заселенных номеров"
   ]
  },
  {
   "cell_type": "code",
   "execution_count": 45,
   "id": "8e3b9160-486d-4720-ba72-c7dd1f1fcf31",
   "metadata": {},
   "outputs": [],
   "source": [
    "guests_second_priority = pd.merge(guests_second_priority, preferences.query('priority == 2'), on = 'guest', how = 'left')"
   ]
  },
  {
   "cell_type": "code",
   "execution_count": 46,
   "id": "68694c5a-f8bc-4308-bd93-a614f72b7de8",
   "metadata": {},
   "outputs": [],
   "source": [
    "guests_second_priority = pd.merge(guests_second_priority, hotels_rest, left_on = 'hotel_y', right_on = 'hotel', how = 'left')"
   ]
  },
  {
   "cell_type": "code",
   "execution_count": 47,
   "id": "fecb43c8-81ca-4c19-b3e1-0a5237ee7320",
   "metadata": {},
   "outputs": [],
   "source": [
    "guests_second_priority['rn_2'] = guests_second_priority.groupby('hotel_y').cumcount() + 1"
   ]
  },
  {
   "cell_type": "code",
   "execution_count": 48,
   "id": "1609a553-cc3c-49f2-a6de-31936e8ed9de",
   "metadata": {},
   "outputs": [],
   "source": [
    "guests_third_priority = guests_second_priority[guests_second_priority['rn_2'] > guests_second_priority['rest']] #осталось расселить еще 281 гостя"
   ]
  },
  {
   "cell_type": "code",
   "execution_count": 49,
   "id": "cdc7e76f-5298-4e5b-b2a2-16749fc91d79",
   "metadata": {},
   "outputs": [],
   "source": [
    "guests_second_priority = guests_second_priority[guests_second_priority['rn_2'] <= guests_second_priority['rest']] #расселены еще 308 гостей"
   ]
  },
  {
   "cell_type": "markdown",
   "id": "41dbbb23-f33f-4d33-ba13-6b539d97f2af",
   "metadata": {},
   "source": [
    "Делаем цикл, потому что непонятно сколько еще таких шагов предстоит пройти"
   ]
  },
  {
   "cell_type": "code",
   "execution_count": 50,
   "id": "99db3dfb-a501-460d-bc7d-75d71664e291",
   "metadata": {},
   "outputs": [],
   "source": [
    "list_priorities= preferences['priority'].unique().tolist()"
   ]
  },
  {
   "cell_type": "code",
   "execution_count": 51,
   "id": "ed5fadc7-ba53-4853-9363-a171457b9318",
   "metadata": {},
   "outputs": [],
   "source": [
    "checked_in_guests = pd.DataFrame()\n",
    "hotels_rest = hotels\n",
    "not_checked_in_guests = guests"
   ]
  },
  {
   "cell_type": "code",
   "execution_count": 52,
   "id": "77a59851-86b3-44d3-9b5f-94696a21fd1b",
   "metadata": {},
   "outputs": [
    {
     "data": {
      "text/html": [
       "<div>\n",
       "<style scoped>\n",
       "    .dataframe tbody tr th:only-of-type {\n",
       "        vertical-align: middle;\n",
       "    }\n",
       "\n",
       "    .dataframe tbody tr th {\n",
       "        vertical-align: top;\n",
       "    }\n",
       "\n",
       "    .dataframe thead th {\n",
       "        text-align: right;\n",
       "    }\n",
       "</style>\n",
       "<table border=\"1\" class=\"dataframe\">\n",
       "  <thead>\n",
       "    <tr style=\"text-align: right;\">\n",
       "      <th></th>\n",
       "      <th>guest</th>\n",
       "      <th>hotel</th>\n",
       "      <th>priority</th>\n",
       "    </tr>\n",
       "  </thead>\n",
       "  <tbody>\n",
       "    <tr>\n",
       "      <th>0</th>\n",
       "      <td>guest_1</td>\n",
       "      <td>hotel_168</td>\n",
       "      <td>1</td>\n",
       "    </tr>\n",
       "    <tr>\n",
       "      <th>18</th>\n",
       "      <td>guest_2</td>\n",
       "      <td>hotel_369</td>\n",
       "      <td>1</td>\n",
       "    </tr>\n",
       "    <tr>\n",
       "      <th>60</th>\n",
       "      <td>guest_3</td>\n",
       "      <td>hotel_157</td>\n",
       "      <td>1</td>\n",
       "    </tr>\n",
       "    <tr>\n",
       "      <th>86</th>\n",
       "      <td>guest_4</td>\n",
       "      <td>hotel_235</td>\n",
       "      <td>1</td>\n",
       "    </tr>\n",
       "    <tr>\n",
       "      <th>132</th>\n",
       "      <td>guest_5</td>\n",
       "      <td>hotel_121</td>\n",
       "      <td>1</td>\n",
       "    </tr>\n",
       "    <tr>\n",
       "      <th>...</th>\n",
       "      <td>...</td>\n",
       "      <td>...</td>\n",
       "      <td>...</td>\n",
       "    </tr>\n",
       "    <tr>\n",
       "      <th>99380</th>\n",
       "      <td>guest_3996</td>\n",
       "      <td>hotel_350</td>\n",
       "      <td>1</td>\n",
       "    </tr>\n",
       "    <tr>\n",
       "      <th>99424</th>\n",
       "      <td>guest_3997</td>\n",
       "      <td>hotel_19</td>\n",
       "      <td>1</td>\n",
       "    </tr>\n",
       "    <tr>\n",
       "      <th>99452</th>\n",
       "      <td>guest_3998</td>\n",
       "      <td>hotel_160</td>\n",
       "      <td>1</td>\n",
       "    </tr>\n",
       "    <tr>\n",
       "      <th>99489</th>\n",
       "      <td>guest_3999</td>\n",
       "      <td>hotel_277</td>\n",
       "      <td>1</td>\n",
       "    </tr>\n",
       "    <tr>\n",
       "      <th>99501</th>\n",
       "      <td>guest_4000</td>\n",
       "      <td>hotel_275</td>\n",
       "      <td>1</td>\n",
       "    </tr>\n",
       "  </tbody>\n",
       "</table>\n",
       "<p>4000 rows × 3 columns</p>\n",
       "</div>"
      ],
      "text/plain": [
       "            guest      hotel  priority\n",
       "0         guest_1  hotel_168         1\n",
       "18        guest_2  hotel_369         1\n",
       "60        guest_3  hotel_157         1\n",
       "86        guest_4  hotel_235         1\n",
       "132       guest_5  hotel_121         1\n",
       "...           ...        ...       ...\n",
       "99380  guest_3996  hotel_350         1\n",
       "99424  guest_3997   hotel_19         1\n",
       "99452  guest_3998  hotel_160         1\n",
       "99489  guest_3999  hotel_277         1\n",
       "99501  guest_4000  hotel_275         1\n",
       "\n",
       "[4000 rows x 3 columns]"
      ]
     },
     "execution_count": 52,
     "metadata": {},
     "output_type": "execute_result"
    }
   ],
   "source": [
    "start_df = preferences[(preferences['priority'] == 1) & preferences['guest'].isin(not_checked_in_guests['guest']) ]"
   ]
  },
  {
   "cell_type": "code",
   "execution_count": 53,
   "id": "d4acb145-68cf-4e8c-baca-cee07ae12dbb",
   "metadata": {},
   "outputs": [
    {
     "name": "stderr",
     "output_type": "stream",
     "text": [
      "C:\\Users\\Mi\\AppData\\Local\\Temp\\ipykernel_14908\\3157429541.py:1: SettingWithCopyWarning: \n",
      "A value is trying to be set on a copy of a slice from a DataFrame.\n",
      "Try using .loc[row_indexer,col_indexer] = value instead\n",
      "\n",
      "See the caveats in the documentation: https://pandas.pydata.org/pandas-docs/stable/user_guide/indexing.html#returning-a-view-versus-a-copy\n",
      "  start_df['rn'] = start_df.groupby('hotel').cumcount() + 1\n"
     ]
    }
   ],
   "source": [
    "start_df['rn'] = start_df.groupby('hotel').cumcount() + 1"
   ]
  },
  {
   "cell_type": "code",
   "execution_count": 54,
   "id": "7dc236d6-daec-425e-ac2f-aea75983d09d",
   "metadata": {},
   "outputs": [
    {
     "data": {
      "text/html": [
       "<div>\n",
       "<style scoped>\n",
       "    .dataframe tbody tr th:only-of-type {\n",
       "        vertical-align: middle;\n",
       "    }\n",
       "\n",
       "    .dataframe tbody tr th {\n",
       "        vertical-align: top;\n",
       "    }\n",
       "\n",
       "    .dataframe thead th {\n",
       "        text-align: right;\n",
       "    }\n",
       "</style>\n",
       "<table border=\"1\" class=\"dataframe\">\n",
       "  <thead>\n",
       "    <tr style=\"text-align: right;\">\n",
       "      <th></th>\n",
       "      <th>guest</th>\n",
       "      <th>hotel</th>\n",
       "      <th>priority</th>\n",
       "      <th>rn</th>\n",
       "      <th>rooms</th>\n",
       "      <th>price</th>\n",
       "    </tr>\n",
       "  </thead>\n",
       "  <tbody>\n",
       "    <tr>\n",
       "      <th>0</th>\n",
       "      <td>guest_1</td>\n",
       "      <td>hotel_168</td>\n",
       "      <td>1</td>\n",
       "      <td>1</td>\n",
       "      <td>13</td>\n",
       "      <td>298</td>\n",
       "    </tr>\n",
       "    <tr>\n",
       "      <th>1</th>\n",
       "      <td>guest_2</td>\n",
       "      <td>hotel_369</td>\n",
       "      <td>1</td>\n",
       "      <td>1</td>\n",
       "      <td>6</td>\n",
       "      <td>133</td>\n",
       "    </tr>\n",
       "    <tr>\n",
       "      <th>2</th>\n",
       "      <td>guest_3</td>\n",
       "      <td>hotel_157</td>\n",
       "      <td>1</td>\n",
       "      <td>1</td>\n",
       "      <td>6</td>\n",
       "      <td>65</td>\n",
       "    </tr>\n",
       "    <tr>\n",
       "      <th>3</th>\n",
       "      <td>guest_4</td>\n",
       "      <td>hotel_235</td>\n",
       "      <td>1</td>\n",
       "      <td>1</td>\n",
       "      <td>5</td>\n",
       "      <td>136</td>\n",
       "    </tr>\n",
       "    <tr>\n",
       "      <th>4</th>\n",
       "      <td>guest_5</td>\n",
       "      <td>hotel_121</td>\n",
       "      <td>1</td>\n",
       "      <td>1</td>\n",
       "      <td>15</td>\n",
       "      <td>56</td>\n",
       "    </tr>\n",
       "    <tr>\n",
       "      <th>...</th>\n",
       "      <td>...</td>\n",
       "      <td>...</td>\n",
       "      <td>...</td>\n",
       "      <td>...</td>\n",
       "      <td>...</td>\n",
       "      <td>...</td>\n",
       "    </tr>\n",
       "    <tr>\n",
       "      <th>3995</th>\n",
       "      <td>guest_3996</td>\n",
       "      <td>hotel_350</td>\n",
       "      <td>1</td>\n",
       "      <td>10</td>\n",
       "      <td>12</td>\n",
       "      <td>56</td>\n",
       "    </tr>\n",
       "    <tr>\n",
       "      <th>3996</th>\n",
       "      <td>guest_3997</td>\n",
       "      <td>hotel_19</td>\n",
       "      <td>1</td>\n",
       "      <td>4</td>\n",
       "      <td>10</td>\n",
       "      <td>113</td>\n",
       "    </tr>\n",
       "    <tr>\n",
       "      <th>3997</th>\n",
       "      <td>guest_3998</td>\n",
       "      <td>hotel_160</td>\n",
       "      <td>1</td>\n",
       "      <td>14</td>\n",
       "      <td>11</td>\n",
       "      <td>68</td>\n",
       "    </tr>\n",
       "    <tr>\n",
       "      <th>3998</th>\n",
       "      <td>guest_3999</td>\n",
       "      <td>hotel_277</td>\n",
       "      <td>1</td>\n",
       "      <td>15</td>\n",
       "      <td>18</td>\n",
       "      <td>281</td>\n",
       "    </tr>\n",
       "    <tr>\n",
       "      <th>3999</th>\n",
       "      <td>guest_4000</td>\n",
       "      <td>hotel_275</td>\n",
       "      <td>1</td>\n",
       "      <td>14</td>\n",
       "      <td>11</td>\n",
       "      <td>159</td>\n",
       "    </tr>\n",
       "  </tbody>\n",
       "</table>\n",
       "<p>4000 rows × 6 columns</p>\n",
       "</div>"
      ],
      "text/plain": [
       "           guest      hotel  priority  rn  rooms  price\n",
       "0        guest_1  hotel_168         1   1     13    298\n",
       "1        guest_2  hotel_369         1   1      6    133\n",
       "2        guest_3  hotel_157         1   1      6     65\n",
       "3        guest_4  hotel_235         1   1      5    136\n",
       "4        guest_5  hotel_121         1   1     15     56\n",
       "...          ...        ...       ...  ..    ...    ...\n",
       "3995  guest_3996  hotel_350         1  10     12     56\n",
       "3996  guest_3997   hotel_19         1   4     10    113\n",
       "3997  guest_3998  hotel_160         1  14     11     68\n",
       "3998  guest_3999  hotel_277         1  15     18    281\n",
       "3999  guest_4000  hotel_275         1  14     11    159\n",
       "\n",
       "[4000 rows x 6 columns]"
      ]
     },
     "execution_count": 54,
     "metadata": {},
     "output_type": "execute_result"
    }
   ],
   "source": [
    "df_hotels = pd.merge(start_df, hotels_rest, on = 'hotel', how = 'left')\n",
    "df_hotels"
   ]
  },
  {
   "cell_type": "code",
   "execution_count": 55,
   "id": "ae4903a4-24f9-4ef5-8535-8c822d611d85",
   "metadata": {},
   "outputs": [
    {
     "data": {
      "text/html": [
       "<div>\n",
       "<style scoped>\n",
       "    .dataframe tbody tr th:only-of-type {\n",
       "        vertical-align: middle;\n",
       "    }\n",
       "\n",
       "    .dataframe tbody tr th {\n",
       "        vertical-align: top;\n",
       "    }\n",
       "\n",
       "    .dataframe thead th {\n",
       "        text-align: right;\n",
       "    }\n",
       "</style>\n",
       "<table border=\"1\" class=\"dataframe\">\n",
       "  <thead>\n",
       "    <tr style=\"text-align: right;\">\n",
       "      <th></th>\n",
       "      <th>guest</th>\n",
       "      <th>hotel</th>\n",
       "      <th>priority</th>\n",
       "      <th>rn</th>\n",
       "      <th>rooms</th>\n",
       "      <th>price</th>\n",
       "    </tr>\n",
       "  </thead>\n",
       "  <tbody>\n",
       "    <tr>\n",
       "      <th>0</th>\n",
       "      <td>guest_1</td>\n",
       "      <td>hotel_168</td>\n",
       "      <td>1</td>\n",
       "      <td>1</td>\n",
       "      <td>13</td>\n",
       "      <td>298</td>\n",
       "    </tr>\n",
       "    <tr>\n",
       "      <th>1</th>\n",
       "      <td>guest_2</td>\n",
       "      <td>hotel_369</td>\n",
       "      <td>1</td>\n",
       "      <td>1</td>\n",
       "      <td>6</td>\n",
       "      <td>133</td>\n",
       "    </tr>\n",
       "    <tr>\n",
       "      <th>2</th>\n",
       "      <td>guest_3</td>\n",
       "      <td>hotel_157</td>\n",
       "      <td>1</td>\n",
       "      <td>1</td>\n",
       "      <td>6</td>\n",
       "      <td>65</td>\n",
       "    </tr>\n",
       "    <tr>\n",
       "      <th>3</th>\n",
       "      <td>guest_4</td>\n",
       "      <td>hotel_235</td>\n",
       "      <td>1</td>\n",
       "      <td>1</td>\n",
       "      <td>5</td>\n",
       "      <td>136</td>\n",
       "    </tr>\n",
       "    <tr>\n",
       "      <th>4</th>\n",
       "      <td>guest_5</td>\n",
       "      <td>hotel_121</td>\n",
       "      <td>1</td>\n",
       "      <td>1</td>\n",
       "      <td>15</td>\n",
       "      <td>56</td>\n",
       "    </tr>\n",
       "    <tr>\n",
       "      <th>...</th>\n",
       "      <td>...</td>\n",
       "      <td>...</td>\n",
       "      <td>...</td>\n",
       "      <td>...</td>\n",
       "      <td>...</td>\n",
       "      <td>...</td>\n",
       "    </tr>\n",
       "    <tr>\n",
       "      <th>3393</th>\n",
       "      <td>guest_3993</td>\n",
       "      <td>hotel_359</td>\n",
       "      <td>1</td>\n",
       "      <td>8</td>\n",
       "      <td>14</td>\n",
       "      <td>163</td>\n",
       "    </tr>\n",
       "    <tr>\n",
       "      <th>3394</th>\n",
       "      <td>guest_3994</td>\n",
       "      <td>hotel_58</td>\n",
       "      <td>1</td>\n",
       "      <td>10</td>\n",
       "      <td>15</td>\n",
       "      <td>120</td>\n",
       "    </tr>\n",
       "    <tr>\n",
       "      <th>3395</th>\n",
       "      <td>guest_3996</td>\n",
       "      <td>hotel_350</td>\n",
       "      <td>1</td>\n",
       "      <td>10</td>\n",
       "      <td>12</td>\n",
       "      <td>56</td>\n",
       "    </tr>\n",
       "    <tr>\n",
       "      <th>3396</th>\n",
       "      <td>guest_3997</td>\n",
       "      <td>hotel_19</td>\n",
       "      <td>1</td>\n",
       "      <td>4</td>\n",
       "      <td>10</td>\n",
       "      <td>113</td>\n",
       "    </tr>\n",
       "    <tr>\n",
       "      <th>3397</th>\n",
       "      <td>guest_3999</td>\n",
       "      <td>hotel_277</td>\n",
       "      <td>1</td>\n",
       "      <td>15</td>\n",
       "      <td>18</td>\n",
       "      <td>281</td>\n",
       "    </tr>\n",
       "  </tbody>\n",
       "</table>\n",
       "<p>3398 rows × 6 columns</p>\n",
       "</div>"
      ],
      "text/plain": [
       "           guest      hotel  priority  rn  rooms  price\n",
       "0        guest_1  hotel_168         1   1     13    298\n",
       "1        guest_2  hotel_369         1   1      6    133\n",
       "2        guest_3  hotel_157         1   1      6     65\n",
       "3        guest_4  hotel_235         1   1      5    136\n",
       "4        guest_5  hotel_121         1   1     15     56\n",
       "...          ...        ...       ...  ..    ...    ...\n",
       "3393  guest_3993  hotel_359         1   8     14    163\n",
       "3394  guest_3994   hotel_58         1  10     15    120\n",
       "3395  guest_3996  hotel_350         1  10     12     56\n",
       "3396  guest_3997   hotel_19         1   4     10    113\n",
       "3397  guest_3999  hotel_277         1  15     18    281\n",
       "\n",
       "[3398 rows x 6 columns]"
      ]
     },
     "execution_count": 55,
     "metadata": {},
     "output_type": "execute_result"
    }
   ],
   "source": [
    "checked_in_guests = pd.concat([checked_in_guests, df_hotels[df_hotels['rn'] <= df_hotels['rooms']]], ignore_index=True)\n",
    "checked_in_guests"
   ]
  },
  {
   "cell_type": "code",
   "execution_count": 56,
   "id": "67534918-6bf3-4e20-b1fa-7b6231e913c2",
   "metadata": {},
   "outputs": [],
   "source": [
    "hotels_rest = checked_in_guests.pivot_table(values= ['guest', 'rooms', 'price'], index='hotel', aggfunc={'guest':'count', 'rooms':'mean', 'price':'mean'})"
   ]
  },
  {
   "cell_type": "code",
   "execution_count": 57,
   "id": "62cb6ba5-0aa0-4f63-bc35-8ec98edd280e",
   "metadata": {},
   "outputs": [],
   "source": [
    "hotels_rest = hotels_rest.reset_index()"
   ]
  },
  {
   "cell_type": "code",
   "execution_count": 58,
   "id": "f7a9f5a6-15e0-4df6-9b4c-7cdf6f987088",
   "metadata": {},
   "outputs": [],
   "source": [
    "hotels_rest['rest'] = hotels_rest['rooms'] - hotels_rest['guest']"
   ]
  },
  {
   "cell_type": "code",
   "execution_count": 59,
   "id": "3a1152e6-e118-4e45-99d2-a50c0b50dcaf",
   "metadata": {},
   "outputs": [],
   "source": [
    "hotels_rest = hotels_rest.rename(columns={'guest': 'guests'})"
   ]
  },
  {
   "cell_type": "code",
   "execution_count": 60,
   "id": "181449d5-9c9b-4713-9dbe-77d13b2da7ea",
   "metadata": {},
   "outputs": [
    {
     "data": {
      "text/html": [
       "<div>\n",
       "<style scoped>\n",
       "    .dataframe tbody tr th:only-of-type {\n",
       "        vertical-align: middle;\n",
       "    }\n",
       "\n",
       "    .dataframe tbody tr th {\n",
       "        vertical-align: top;\n",
       "    }\n",
       "\n",
       "    .dataframe thead th {\n",
       "        text-align: right;\n",
       "    }\n",
       "</style>\n",
       "<table border=\"1\" class=\"dataframe\">\n",
       "  <thead>\n",
       "    <tr style=\"text-align: right;\">\n",
       "      <th></th>\n",
       "      <th>guest</th>\n",
       "      <th>hotel</th>\n",
       "      <th>priority</th>\n",
       "      <th>rn</th>\n",
       "      <th>rooms</th>\n",
       "      <th>price</th>\n",
       "    </tr>\n",
       "  </thead>\n",
       "  <tbody>\n",
       "    <tr>\n",
       "      <th>10</th>\n",
       "      <td>guest_11</td>\n",
       "      <td>hotel_157</td>\n",
       "      <td>1</td>\n",
       "      <td>2</td>\n",
       "      <td>6</td>\n",
       "      <td>65</td>\n",
       "    </tr>\n",
       "    <tr>\n",
       "      <th>17</th>\n",
       "      <td>guest_18</td>\n",
       "      <td>hotel_215</td>\n",
       "      <td>1</td>\n",
       "      <td>2</td>\n",
       "      <td>9</td>\n",
       "      <td>133</td>\n",
       "    </tr>\n",
       "    <tr>\n",
       "      <th>38</th>\n",
       "      <td>guest_39</td>\n",
       "      <td>hotel_121</td>\n",
       "      <td>1</td>\n",
       "      <td>2</td>\n",
       "      <td>15</td>\n",
       "      <td>56</td>\n",
       "    </tr>\n",
       "    <tr>\n",
       "      <th>84</th>\n",
       "      <td>guest_85</td>\n",
       "      <td>hotel_266</td>\n",
       "      <td>1</td>\n",
       "      <td>2</td>\n",
       "      <td>18</td>\n",
       "      <td>169</td>\n",
       "    </tr>\n",
       "    <tr>\n",
       "      <th>85</th>\n",
       "      <td>guest_86</td>\n",
       "      <td>hotel_277</td>\n",
       "      <td>1</td>\n",
       "      <td>2</td>\n",
       "      <td>18</td>\n",
       "      <td>281</td>\n",
       "    </tr>\n",
       "    <tr>\n",
       "      <th>...</th>\n",
       "      <td>...</td>\n",
       "      <td>...</td>\n",
       "      <td>...</td>\n",
       "      <td>...</td>\n",
       "      <td>...</td>\n",
       "      <td>...</td>\n",
       "    </tr>\n",
       "    <tr>\n",
       "      <th>2627</th>\n",
       "      <td>guest_2830</td>\n",
       "      <td>hotel_19</td>\n",
       "      <td>1</td>\n",
       "      <td>2</td>\n",
       "      <td>10</td>\n",
       "      <td>113</td>\n",
       "    </tr>\n",
       "    <tr>\n",
       "      <th>2727</th>\n",
       "      <td>guest_2968</td>\n",
       "      <td>hotel_13</td>\n",
       "      <td>1</td>\n",
       "      <td>2</td>\n",
       "      <td>15</td>\n",
       "      <td>198</td>\n",
       "    </tr>\n",
       "    <tr>\n",
       "      <th>2792</th>\n",
       "      <td>guest_3058</td>\n",
       "      <td>hotel_286</td>\n",
       "      <td>1</td>\n",
       "      <td>2</td>\n",
       "      <td>8</td>\n",
       "      <td>207</td>\n",
       "    </tr>\n",
       "    <tr>\n",
       "      <th>2808</th>\n",
       "      <td>guest_3083</td>\n",
       "      <td>hotel_334</td>\n",
       "      <td>1</td>\n",
       "      <td>2</td>\n",
       "      <td>7</td>\n",
       "      <td>83</td>\n",
       "    </tr>\n",
       "    <tr>\n",
       "      <th>2984</th>\n",
       "      <td>guest_3352</td>\n",
       "      <td>hotel_233</td>\n",
       "      <td>1</td>\n",
       "      <td>2</td>\n",
       "      <td>12</td>\n",
       "      <td>278</td>\n",
       "    </tr>\n",
       "  </tbody>\n",
       "</table>\n",
       "<p>400 rows × 6 columns</p>\n",
       "</div>"
      ],
      "text/plain": [
       "           guest      hotel  priority  rn  rooms  price\n",
       "10      guest_11  hotel_157         1   2      6     65\n",
       "17      guest_18  hotel_215         1   2      9    133\n",
       "38      guest_39  hotel_121         1   2     15     56\n",
       "84      guest_85  hotel_266         1   2     18    169\n",
       "85      guest_86  hotel_277         1   2     18    281\n",
       "...          ...        ...       ...  ..    ...    ...\n",
       "2627  guest_2830   hotel_19         1   2     10    113\n",
       "2727  guest_2968   hotel_13         1   2     15    198\n",
       "2792  guest_3058  hotel_286         1   2      8    207\n",
       "2808  guest_3083  hotel_334         1   2      7     83\n",
       "2984  guest_3352  hotel_233         1   2     12    278\n",
       "\n",
       "[400 rows x 6 columns]"
      ]
     },
     "execution_count": 60,
     "metadata": {},
     "output_type": "execute_result"
    }
   ],
   "source": [
    "checked_in_guests[checked_in_guests['rn'] == 2]"
   ]
  },
  {
   "cell_type": "code",
   "execution_count": 61,
   "id": "45cc2c13-9169-41ba-ac29-816bf0f1d18e",
   "metadata": {},
   "outputs": [
    {
     "name": "stderr",
     "output_type": "stream",
     "text": [
      "C:\\Users\\Mi\\AppData\\Local\\Temp\\ipykernel_14908\\1903805619.py:9: SettingWithCopyWarning: \n",
      "A value is trying to be set on a copy of a slice from a DataFrame.\n",
      "Try using .loc[row_indexer,col_indexer] = value instead\n",
      "\n",
      "See the caveats in the documentation: https://pandas.pydata.org/pandas-docs/stable/user_guide/indexing.html#returning-a-view-versus-a-copy\n",
      "  start_df['rn'] = start_df.groupby('hotel').cumcount() + 1\n",
      "C:\\Users\\Mi\\AppData\\Local\\Temp\\ipykernel_14908\\1903805619.py:9: SettingWithCopyWarning: \n",
      "A value is trying to be set on a copy of a slice from a DataFrame.\n",
      "Try using .loc[row_indexer,col_indexer] = value instead\n",
      "\n",
      "See the caveats in the documentation: https://pandas.pydata.org/pandas-docs/stable/user_guide/indexing.html#returning-a-view-versus-a-copy\n",
      "  start_df['rn'] = start_df.groupby('hotel').cumcount() + 1\n",
      "C:\\Users\\Mi\\AppData\\Local\\Temp\\ipykernel_14908\\1903805619.py:9: SettingWithCopyWarning: \n",
      "A value is trying to be set on a copy of a slice from a DataFrame.\n",
      "Try using .loc[row_indexer,col_indexer] = value instead\n",
      "\n",
      "See the caveats in the documentation: https://pandas.pydata.org/pandas-docs/stable/user_guide/indexing.html#returning-a-view-versus-a-copy\n",
      "  start_df['rn'] = start_df.groupby('hotel').cumcount() + 1\n",
      "C:\\Users\\Mi\\AppData\\Local\\Temp\\ipykernel_14908\\1903805619.py:9: SettingWithCopyWarning: \n",
      "A value is trying to be set on a copy of a slice from a DataFrame.\n",
      "Try using .loc[row_indexer,col_indexer] = value instead\n",
      "\n",
      "See the caveats in the documentation: https://pandas.pydata.org/pandas-docs/stable/user_guide/indexing.html#returning-a-view-versus-a-copy\n",
      "  start_df['rn'] = start_df.groupby('hotel').cumcount() + 1\n",
      "C:\\Users\\Mi\\AppData\\Local\\Temp\\ipykernel_14908\\1903805619.py:9: SettingWithCopyWarning: \n",
      "A value is trying to be set on a copy of a slice from a DataFrame.\n",
      "Try using .loc[row_indexer,col_indexer] = value instead\n",
      "\n",
      "See the caveats in the documentation: https://pandas.pydata.org/pandas-docs/stable/user_guide/indexing.html#returning-a-view-versus-a-copy\n",
      "  start_df['rn'] = start_df.groupby('hotel').cumcount() + 1\n",
      "C:\\Users\\Mi\\AppData\\Local\\Temp\\ipykernel_14908\\1903805619.py:9: SettingWithCopyWarning: \n",
      "A value is trying to be set on a copy of a slice from a DataFrame.\n",
      "Try using .loc[row_indexer,col_indexer] = value instead\n",
      "\n",
      "See the caveats in the documentation: https://pandas.pydata.org/pandas-docs/stable/user_guide/indexing.html#returning-a-view-versus-a-copy\n",
      "  start_df['rn'] = start_df.groupby('hotel').cumcount() + 1\n",
      "C:\\Users\\Mi\\AppData\\Local\\Temp\\ipykernel_14908\\1903805619.py:9: SettingWithCopyWarning: \n",
      "A value is trying to be set on a copy of a slice from a DataFrame.\n",
      "Try using .loc[row_indexer,col_indexer] = value instead\n",
      "\n",
      "See the caveats in the documentation: https://pandas.pydata.org/pandas-docs/stable/user_guide/indexing.html#returning-a-view-versus-a-copy\n",
      "  start_df['rn'] = start_df.groupby('hotel').cumcount() + 1\n",
      "C:\\Users\\Mi\\AppData\\Local\\Temp\\ipykernel_14908\\1903805619.py:9: SettingWithCopyWarning: \n",
      "A value is trying to be set on a copy of a slice from a DataFrame.\n",
      "Try using .loc[row_indexer,col_indexer] = value instead\n",
      "\n",
      "See the caveats in the documentation: https://pandas.pydata.org/pandas-docs/stable/user_guide/indexing.html#returning-a-view-versus-a-copy\n",
      "  start_df['rn'] = start_df.groupby('hotel').cumcount() + 1\n"
     ]
    },
    {
     "name": "stdout",
     "output_type": "stream",
     "text": [
      "1 3398\n",
      "2 3706\n",
      "3 3828\n",
      "4 3890\n",
      "5 3924\n",
      "6 3941\n",
      "7 3952\n",
      "8 3959\n",
      "9 3964\n"
     ]
    },
    {
     "name": "stderr",
     "output_type": "stream",
     "text": [
      "C:\\Users\\Mi\\AppData\\Local\\Temp\\ipykernel_14908\\1903805619.py:9: SettingWithCopyWarning: \n",
      "A value is trying to be set on a copy of a slice from a DataFrame.\n",
      "Try using .loc[row_indexer,col_indexer] = value instead\n",
      "\n",
      "See the caveats in the documentation: https://pandas.pydata.org/pandas-docs/stable/user_guide/indexing.html#returning-a-view-versus-a-copy\n",
      "  start_df['rn'] = start_df.groupby('hotel').cumcount() + 1\n",
      "C:\\Users\\Mi\\AppData\\Local\\Temp\\ipykernel_14908\\1903805619.py:9: SettingWithCopyWarning: \n",
      "A value is trying to be set on a copy of a slice from a DataFrame.\n",
      "Try using .loc[row_indexer,col_indexer] = value instead\n",
      "\n",
      "See the caveats in the documentation: https://pandas.pydata.org/pandas-docs/stable/user_guide/indexing.html#returning-a-view-versus-a-copy\n",
      "  start_df['rn'] = start_df.groupby('hotel').cumcount() + 1\n",
      "C:\\Users\\Mi\\AppData\\Local\\Temp\\ipykernel_14908\\1903805619.py:9: SettingWithCopyWarning: \n",
      "A value is trying to be set on a copy of a slice from a DataFrame.\n",
      "Try using .loc[row_indexer,col_indexer] = value instead\n",
      "\n",
      "See the caveats in the documentation: https://pandas.pydata.org/pandas-docs/stable/user_guide/indexing.html#returning-a-view-versus-a-copy\n",
      "  start_df['rn'] = start_df.groupby('hotel').cumcount() + 1\n",
      "C:\\Users\\Mi\\AppData\\Local\\Temp\\ipykernel_14908\\1903805619.py:9: SettingWithCopyWarning: \n",
      "A value is trying to be set on a copy of a slice from a DataFrame.\n",
      "Try using .loc[row_indexer,col_indexer] = value instead\n",
      "\n",
      "See the caveats in the documentation: https://pandas.pydata.org/pandas-docs/stable/user_guide/indexing.html#returning-a-view-versus-a-copy\n",
      "  start_df['rn'] = start_df.groupby('hotel').cumcount() + 1\n",
      "C:\\Users\\Mi\\AppData\\Local\\Temp\\ipykernel_14908\\1903805619.py:9: SettingWithCopyWarning: \n",
      "A value is trying to be set on a copy of a slice from a DataFrame.\n",
      "Try using .loc[row_indexer,col_indexer] = value instead\n",
      "\n",
      "See the caveats in the documentation: https://pandas.pydata.org/pandas-docs/stable/user_guide/indexing.html#returning-a-view-versus-a-copy\n",
      "  start_df['rn'] = start_df.groupby('hotel').cumcount() + 1\n",
      "C:\\Users\\Mi\\AppData\\Local\\Temp\\ipykernel_14908\\1903805619.py:9: SettingWithCopyWarning: \n",
      "A value is trying to be set on a copy of a slice from a DataFrame.\n",
      "Try using .loc[row_indexer,col_indexer] = value instead\n",
      "\n",
      "See the caveats in the documentation: https://pandas.pydata.org/pandas-docs/stable/user_guide/indexing.html#returning-a-view-versus-a-copy\n",
      "  start_df['rn'] = start_df.groupby('hotel').cumcount() + 1\n",
      "C:\\Users\\Mi\\AppData\\Local\\Temp\\ipykernel_14908\\1903805619.py:9: SettingWithCopyWarning: \n",
      "A value is trying to be set on a copy of a slice from a DataFrame.\n",
      "Try using .loc[row_indexer,col_indexer] = value instead\n",
      "\n",
      "See the caveats in the documentation: https://pandas.pydata.org/pandas-docs/stable/user_guide/indexing.html#returning-a-view-versus-a-copy\n",
      "  start_df['rn'] = start_df.groupby('hotel').cumcount() + 1\n"
     ]
    },
    {
     "name": "stdout",
     "output_type": "stream",
     "text": [
      "10 3966\n",
      "11 3967\n",
      "12 3971\n",
      "13 3971\n",
      "14 3971\n",
      "15 3972\n",
      "16 3972\n",
      "17 3972\n",
      "18 3972\n",
      "19 3972\n",
      "20 3972\n",
      "21 3972\n",
      "22 3972\n",
      "23 3972\n",
      "24 3972\n",
      "25 3972\n",
      "26 3972\n",
      "27 3972\n",
      "28 3972\n",
      "29 3972\n",
      "30 3972\n",
      "31 3972\n",
      "32 3972\n",
      "33 3972\n",
      "34 3972\n",
      "35 3972\n",
      "36 3972\n",
      "37 3972\n",
      "38 3972\n",
      "39 3972\n",
      "40 3972\n",
      "41 3972\n",
      "42 3972\n",
      "43 3972\n",
      "44 3972\n",
      "45 3972\n",
      "46 3972\n",
      "47 3972\n",
      "48 3972\n",
      "49 3972\n"
     ]
    }
   ],
   "source": [
    "checked_in_guests = pd.DataFrame()\n",
    "hotels_rest = hotels\n",
    "hotels_rest['rest'] = hotels['rooms']\n",
    "hotels_rest['guests'] = 0\n",
    "not_checked_in_guests = guests\n",
    "while not not_checked_in_guests.empty:\n",
    "    for priority in list_priorities:\n",
    "        start_df = preferences[(preferences['priority'] == priority) & preferences['guest'].isin(not_checked_in_guests['guest']) ]\n",
    "        start_df['rn'] = start_df.groupby('hotel').cumcount() + 1\n",
    "        df_hotels = pd.merge(start_df, hotels_rest, on = 'hotel', how = 'left')\n",
    "        checked_in_guests = pd.concat([checked_in_guests, df_hotels[df_hotels['rn'] <= df_hotels['rest']]], ignore_index=True)\n",
    "        not_checked_in_guests = df_hotels[df_hotels['rn'] > df_hotels['rest']]\n",
    "        \n",
    "        hotels_rest = checked_in_guests.pivot_table(values= ['guest', 'rooms', 'price'], index='hotel', aggfunc={'guest':'count', 'rooms':'mean', 'price':'mean'})\n",
    "        hotels_rest = hotels_rest.rename(columns={'guest': 'guests'})\n",
    "        hotels_rest['rest'] = hotels_rest['rooms'] - hotels_rest['guests']\n",
    "        hotels_rest = hotels_rest.reset_index()\n",
    "        print(priority, len(checked_in_guests))"
   ]
  },
  {
   "cell_type": "code",
   "execution_count": 62,
   "id": "6b565883-e8d3-4d2b-8406-0a787f122ea2",
   "metadata": {},
   "outputs": [],
   "source": [
    "check_df = preferences[~preferences['guest'].isin(checked_in_guests['guest'])] #these guests will be distributed according to the cheapest hotels"
   ]
  },
  {
   "cell_type": "code",
   "execution_count": 63,
   "id": "84b71497-ccb3-413d-a99b-4ed3bc60c85d",
   "metadata": {},
   "outputs": [],
   "source": [
    "guests_leftovers = check_df['guest'].unique().tolist()"
   ]
  },
  {
   "cell_type": "code",
   "execution_count": 64,
   "id": "ed6633de-105a-4ee9-ba33-96e01461ce10",
   "metadata": {},
   "outputs": [],
   "source": [
    "x = len(guests_leftovers)"
   ]
  },
  {
   "cell_type": "code",
   "execution_count": 65,
   "id": "05b36b25-ec91-4bea-8c37-53c814e1f194",
   "metadata": {},
   "outputs": [],
   "source": [
    "hotels_for_leftovers = hotels_rest[hotels_rest['rest'] > 0].sort_values('price') #additional marketing step to let leftovers check in in the cheapest hotels"
   ]
  },
  {
   "cell_type": "code",
   "execution_count": 66,
   "id": "acd3c7ff-faab-4a28-8b99-1e16f03f5b08",
   "metadata": {},
   "outputs": [],
   "source": [
    "rooms_leftovers = pd.merge(hotels_new, hotels_for_leftovers, left_on = 'hotel_number', right_on = 'hotel', how = 'inner')"
   ]
  },
  {
   "cell_type": "code",
   "execution_count": 67,
   "id": "c2d5ac68-97c7-49c1-ad65-0e3f6cfa0466",
   "metadata": {},
   "outputs": [],
   "source": [
    "rooms_leftovers = rooms_leftovers[rooms_leftovers['room_number'] > rooms_leftovers['guests']]"
   ]
  },
  {
   "cell_type": "code",
   "execution_count": 68,
   "id": "227b3c2e-c074-4e6e-a5f8-478b4f1b0b19",
   "metadata": {},
   "outputs": [],
   "source": [
    "rooms_leftovers = rooms_leftovers.sort_values('price_x')[:x]"
   ]
  },
  {
   "cell_type": "code",
   "execution_count": 69,
   "id": "76b2fd42-8486-4a2c-9faf-8d4ff9ce02fc",
   "metadata": {},
   "outputs": [],
   "source": [
    "rooms_leftovers['guest'] = guests_leftovers"
   ]
  },
  {
   "cell_type": "code",
   "execution_count": 70,
   "id": "d0351ba0-a682-4713-9bb0-279cb0c324fd",
   "metadata": {},
   "outputs": [],
   "source": [
    "rooms_leftovers['priority'] = 0"
   ]
  },
  {
   "cell_type": "code",
   "execution_count": 71,
   "id": "0dff3674-e440-4410-be69-0c3e7ad67071",
   "metadata": {},
   "outputs": [],
   "source": [
    "rooms_leftovers = rooms_leftovers.rename(columns={'price_y': 'price'})"
   ]
  },
  {
   "cell_type": "code",
   "execution_count": 72,
   "id": "2982f243-0165-45ce-a21a-b1b7a8509e92",
   "metadata": {},
   "outputs": [],
   "source": [
    "checked_in_guests = checked_in_guests[['guest', 'hotel', 'priority', 'price', 'rooms']]"
   ]
  },
  {
   "cell_type": "code",
   "execution_count": 73,
   "id": "dadd9d1d-5231-4d27-b2e1-1e9224306e47",
   "metadata": {},
   "outputs": [],
   "source": [
    "rooms_leftovers = rooms_leftovers[['guest', 'hotel', 'priority', 'price', 'rooms']]"
   ]
  },
  {
   "cell_type": "code",
   "execution_count": 74,
   "id": "1b719150-0cbb-4c67-a4df-2717c5f4d583",
   "metadata": {},
   "outputs": [],
   "source": [
    "final_guests = pd.concat([checked_in_guests, rooms_leftovers], ignore_index=True)"
   ]
  },
  {
   "cell_type": "code",
   "execution_count": 75,
   "id": "1082af86-5728-402d-b963-efc18e84c41c",
   "metadata": {},
   "outputs": [],
   "source": [
    "final_guests = pd.merge(final_guests, guests, on = 'guest', how = 'left')"
   ]
  },
  {
   "cell_type": "code",
   "execution_count": 76,
   "id": "f673f848-94dd-4151-87d0-b1343799d4da",
   "metadata": {},
   "outputs": [],
   "source": [
    "final_guests['price_final'] = final_guests['price'] * (1 - final_guests['discount'])"
   ]
  },
  {
   "cell_type": "code",
   "execution_count": 77,
   "id": "5da24e1d-2555-4537-b2d1-92d5cbe70dad",
   "metadata": {},
   "outputs": [],
   "source": [
    "result_distribution_group_part2 = final_guests.pivot_table(values='price_final', index='hotel', aggfunc='sum')"
   ]
  },
  {
   "cell_type": "code",
   "execution_count": 81,
   "id": "4651c703-859b-464a-b553-418eda9b70d2",
   "metadata": {},
   "outputs": [
    {
     "data": {
      "text/html": [
       "<div>\n",
       "<style scoped>\n",
       "    .dataframe tbody tr th:only-of-type {\n",
       "        vertical-align: middle;\n",
       "    }\n",
       "\n",
       "    .dataframe tbody tr th {\n",
       "        vertical-align: top;\n",
       "    }\n",
       "\n",
       "    .dataframe thead th {\n",
       "        text-align: right;\n",
       "    }\n",
       "</style>\n",
       "<table border=\"1\" class=\"dataframe\">\n",
       "  <thead>\n",
       "    <tr style=\"text-align: right;\">\n",
       "      <th></th>\n",
       "      <th>guest</th>\n",
       "      <th>hotel</th>\n",
       "      <th>priority</th>\n",
       "      <th>price</th>\n",
       "      <th>rooms</th>\n",
       "      <th>index</th>\n",
       "      <th>discount</th>\n",
       "      <th>price_final</th>\n",
       "    </tr>\n",
       "  </thead>\n",
       "  <tbody>\n",
       "    <tr>\n",
       "      <th>0</th>\n",
       "      <td>guest_1</td>\n",
       "      <td>hotel_168</td>\n",
       "      <td>1</td>\n",
       "      <td>298.0</td>\n",
       "      <td>13.0</td>\n",
       "      <td>0</td>\n",
       "      <td>0.09</td>\n",
       "      <td>271.18</td>\n",
       "    </tr>\n",
       "    <tr>\n",
       "      <th>1</th>\n",
       "      <td>guest_2</td>\n",
       "      <td>hotel_369</td>\n",
       "      <td>1</td>\n",
       "      <td>133.0</td>\n",
       "      <td>6.0</td>\n",
       "      <td>1</td>\n",
       "      <td>0.00</td>\n",
       "      <td>133.00</td>\n",
       "    </tr>\n",
       "    <tr>\n",
       "      <th>2</th>\n",
       "      <td>guest_3</td>\n",
       "      <td>hotel_157</td>\n",
       "      <td>1</td>\n",
       "      <td>65.0</td>\n",
       "      <td>6.0</td>\n",
       "      <td>2</td>\n",
       "      <td>0.07</td>\n",
       "      <td>60.45</td>\n",
       "    </tr>\n",
       "    <tr>\n",
       "      <th>3</th>\n",
       "      <td>guest_4</td>\n",
       "      <td>hotel_235</td>\n",
       "      <td>1</td>\n",
       "      <td>136.0</td>\n",
       "      <td>5.0</td>\n",
       "      <td>3</td>\n",
       "      <td>0.00</td>\n",
       "      <td>136.00</td>\n",
       "    </tr>\n",
       "    <tr>\n",
       "      <th>4</th>\n",
       "      <td>guest_5</td>\n",
       "      <td>hotel_121</td>\n",
       "      <td>1</td>\n",
       "      <td>56.0</td>\n",
       "      <td>15.0</td>\n",
       "      <td>4</td>\n",
       "      <td>0.10</td>\n",
       "      <td>50.40</td>\n",
       "    </tr>\n",
       "    <tr>\n",
       "      <th>...</th>\n",
       "      <td>...</td>\n",
       "      <td>...</td>\n",
       "      <td>...</td>\n",
       "      <td>...</td>\n",
       "      <td>...</td>\n",
       "      <td>...</td>\n",
       "      <td>...</td>\n",
       "      <td>...</td>\n",
       "    </tr>\n",
       "    <tr>\n",
       "      <th>3995</th>\n",
       "      <td>guest_3770</td>\n",
       "      <td>hotel_26</td>\n",
       "      <td>0</td>\n",
       "      <td>55.0</td>\n",
       "      <td>19.0</td>\n",
       "      <td>3769</td>\n",
       "      <td>0.06</td>\n",
       "      <td>51.70</td>\n",
       "    </tr>\n",
       "    <tr>\n",
       "      <th>3996</th>\n",
       "      <td>guest_3789</td>\n",
       "      <td>hotel_167</td>\n",
       "      <td>0</td>\n",
       "      <td>55.0</td>\n",
       "      <td>9.0</td>\n",
       "      <td>3788</td>\n",
       "      <td>0.19</td>\n",
       "      <td>44.55</td>\n",
       "    </tr>\n",
       "    <tr>\n",
       "      <th>3997</th>\n",
       "      <td>guest_3795</td>\n",
       "      <td>hotel_26</td>\n",
       "      <td>0</td>\n",
       "      <td>55.0</td>\n",
       "      <td>19.0</td>\n",
       "      <td>3794</td>\n",
       "      <td>0.18</td>\n",
       "      <td>45.10</td>\n",
       "    </tr>\n",
       "    <tr>\n",
       "      <th>3998</th>\n",
       "      <td>guest_3943</td>\n",
       "      <td>hotel_26</td>\n",
       "      <td>0</td>\n",
       "      <td>55.0</td>\n",
       "      <td>19.0</td>\n",
       "      <td>3942</td>\n",
       "      <td>0.13</td>\n",
       "      <td>47.85</td>\n",
       "    </tr>\n",
       "    <tr>\n",
       "      <th>3999</th>\n",
       "      <td>guest_3958</td>\n",
       "      <td>hotel_350</td>\n",
       "      <td>0</td>\n",
       "      <td>56.0</td>\n",
       "      <td>12.0</td>\n",
       "      <td>3957</td>\n",
       "      <td>0.12</td>\n",
       "      <td>49.28</td>\n",
       "    </tr>\n",
       "  </tbody>\n",
       "</table>\n",
       "<p>4000 rows × 8 columns</p>\n",
       "</div>"
      ],
      "text/plain": [
       "           guest      hotel  priority  price  rooms  index  discount  \\\n",
       "0        guest_1  hotel_168         1  298.0   13.0      0      0.09   \n",
       "1        guest_2  hotel_369         1  133.0    6.0      1      0.00   \n",
       "2        guest_3  hotel_157         1   65.0    6.0      2      0.07   \n",
       "3        guest_4  hotel_235         1  136.0    5.0      3      0.00   \n",
       "4        guest_5  hotel_121         1   56.0   15.0      4      0.10   \n",
       "...          ...        ...       ...    ...    ...    ...       ...   \n",
       "3995  guest_3770   hotel_26         0   55.0   19.0   3769      0.06   \n",
       "3996  guest_3789  hotel_167         0   55.0    9.0   3788      0.19   \n",
       "3997  guest_3795   hotel_26         0   55.0   19.0   3794      0.18   \n",
       "3998  guest_3943   hotel_26         0   55.0   19.0   3942      0.13   \n",
       "3999  guest_3958  hotel_350         0   56.0   12.0   3957      0.12   \n",
       "\n",
       "      price_final  \n",
       "0          271.18  \n",
       "1          133.00  \n",
       "2           60.45  \n",
       "3          136.00  \n",
       "4           50.40  \n",
       "...           ...  \n",
       "3995        51.70  \n",
       "3996        44.55  \n",
       "3997        45.10  \n",
       "3998        47.85  \n",
       "3999        49.28  \n",
       "\n",
       "[4000 rows x 8 columns]"
      ]
     },
     "execution_count": 81,
     "metadata": {},
     "output_type": "execute_result"
    }
   ],
   "source": [
    "final_guests"
   ]
  },
  {
   "cell_type": "code",
   "execution_count": 79,
   "id": "5531d269-e54c-48d7-bba6-43a6beae52e6",
   "metadata": {},
   "outputs": [
    {
     "data": {
      "text/plain": [
       "644159.43"
      ]
     },
     "execution_count": 79,
     "metadata": {},
     "output_type": "execute_result"
    }
   ],
   "source": [
    "sum(result_distribution_group_part2['price_final'])"
   ]
  },
  {
   "cell_type": "markdown",
   "id": "fdfda5e3-122e-4815-9035-028c0c254c58",
   "metadata": {},
   "source": [
    "Part 3"
   ]
  },
  {
   "cell_type": "code",
   "execution_count": null,
   "id": "b7c7c619-e201-46ef-9f4c-e7b35c92b4ef",
   "metadata": {},
   "outputs": [],
   "source": [
    "1. Заселяем сначала все самые дешевые отели - сортируем таблицу с комнатами hotels_new по цене\n",
    "2. Для каждого отеля по порядку: получить список гостей исходя из порядка и приоритета\n",
    "\n",
    "создать датасет для каждого отеля - временный \n",
    "создать совокупный датасет\n",
    "\n",
    "для каждого отеля отобрать только тех гостей, у которых он встречается в приоритетах\n",
    "hotel - guest - priority - *rn\n",
    "\n",
    "отсортировать по приоритету, затем по гостю \n",
    "пронумеровать и оставить только тех, кто меньше количества комнат \n",
    "\n",
    "также сделать датасеты с заселенными и незаселенными гостями, чтобы в новой итерации обращаться к измененному списку гостей \n",
    "то есть датасет с гостями будет меняться"
   ]
  },
  {
   "cell_type": "code",
   "execution_count": 110,
   "id": "2a1dcbe9-5a43-4a67-80c1-1578eb899eae",
   "metadata": {},
   "outputs": [],
   "source": [
    "priorities = []\n",
    "for i in range(1, max(preferences['priority']) + 1):\n",
    "    priorities.append(i)"
   ]
  },
  {
   "cell_type": "code",
   "execution_count": 111,
   "id": "34cae0a9-d272-4b82-9b3d-fa48153347a3",
   "metadata": {},
   "outputs": [],
   "source": [
    "hotels_new = hotels_new.sort_values(by = ['price', 'hotel_number', 'room_number'])"
   ]
  },
  {
   "cell_type": "code",
   "execution_count": 112,
   "id": "6b159067-42dd-473e-b72d-9a448278d961",
   "metadata": {},
   "outputs": [],
   "source": [
    "hotels = hotels.sort_values('price')"
   ]
  },
  {
   "cell_type": "code",
   "execution_count": 113,
   "id": "590ab144-6a35-4f67-a68d-069a58b43e16",
   "metadata": {},
   "outputs": [
    {
     "name": "stdout",
     "output_type": "stream",
     "text": [
      "50 ['hotel_49', 'hotel_190'] 29 done\n",
      "52 ['hotel_301', 'hotel_354'] 47 done\n",
      "53 ['hotel_24'] 56 done\n",
      "54 ['hotel_365', 'hotel_47', 'hotel_23', 'hotel_321'] 115 done\n",
      "55 ['hotel_167', 'hotel_26'] 143 done\n",
      "56 ['hotel_121', 'hotel_320', 'hotel_350', 'hotel_53', 'hotel_15'] 203 done\n",
      "57 ['hotel_249', 'hotel_242'] 232 done\n",
      "58 ['hotel_6'] 242 done\n",
      "59 ['hotel_92', 'hotel_144'] 267 done\n",
      "60 ['hotel_247'] 281 done\n",
      "61 ['hotel_22'] 298 done\n",
      "64 ['hotel_252'] 311 done\n",
      "65 ['hotel_157', 'hotel_155'] 324 done\n",
      "66 ['hotel_135', 'hotel_120', 'hotel_273'] 360 done\n",
      "67 ['hotel_109'] 371 done\n",
      "68 ['hotel_397', 'hotel_160', 'hotel_262'] 409 done\n",
      "69 ['hotel_7', 'hotel_134'] 430 done\n",
      "71 ['hotel_283'] 439 done\n",
      "72 ['hotel_174'] 452 done\n",
      "73 ['hotel_268', 'hotel_102', 'hotel_104', 'hotel_279', 'hotel_189'] 515 done\n",
      "74 ['hotel_305', 'hotel_339'] 543 done\n",
      "75 ['hotel_360', 'hotel_79', 'hotel_88', 'hotel_337'] 582 done\n",
      "76 ['hotel_295', 'hotel_224'] 614 done\n",
      "77 ['hotel_77'] 626 done\n",
      "78 ['hotel_280'] 638 done\n",
      "79 ['hotel_177', 'hotel_214', 'hotel_219'] 660 done\n",
      "81 ['hotel_150', 'hotel_208'] 674 done\n",
      "82 ['hotel_241', 'hotel_112'] 690 done\n",
      "83 ['hotel_334', 'hotel_330'] 702 done\n",
      "84 ['hotel_198'] 707 done\n",
      "85 ['hotel_90', 'hotel_70', 'hotel_387', 'hotel_129'] 773 done\n",
      "88 ['hotel_238'] 781 done\n",
      "90 ['hotel_153'] 794 done\n",
      "91 ['hotel_296'] 806 done\n",
      "92 ['hotel_2', 'hotel_137'] 837 done\n",
      "93 ['hotel_218', 'hotel_170', 'hotel_204'] 860 done\n",
      "94 ['hotel_195'] 876 done\n",
      "95 ['hotel_45', 'hotel_192'] 902 done\n",
      "96 ['hotel_196'] 914 done\n",
      "97 ['hotel_173'] 932 done\n",
      "98 ['hotel_344', 'hotel_389', 'hotel_256', 'hotel_40'] 979 done\n",
      "101 ['hotel_16'] 991 done\n",
      "102 ['hotel_398', 'hotel_30', 'hotel_211', 'hotel_165'] 1037 done\n",
      "104 ['hotel_28'] 1044 done\n",
      "107 ['hotel_113', 'hotel_291'] 1055 done\n",
      "108 ['hotel_33', 'hotel_181'] 1077 done\n",
      "109 ['hotel_251'] 1094 done\n",
      "112 ['hotel_94'] 1110 done\n",
      "113 ['hotel_19'] 1120 done\n",
      "115 ['hotel_194'] 1136 done\n",
      "116 ['hotel_163', 'hotel_86', 'hotel_59'] 1171 done\n",
      "117 ['hotel_125'] 1178 done\n",
      "120 ['hotel_203', 'hotel_58', 'hotel_366', 'hotel_175'] 1228 done\n",
      "121 ['hotel_17'] 1246 done\n",
      "122 ['hotel_309'] 1263 done\n",
      "123 ['hotel_42', 'hotel_243'] 1279 done\n",
      "125 ['hotel_197', 'hotel_292'] 1294 done\n",
      "126 ['hotel_384', 'hotel_351'] 1314 done\n",
      "127 ['hotel_246', 'hotel_269', 'hotel_317', 'hotel_145'] 1363 done\n",
      "128 ['hotel_207'] 1371 done\n",
      "129 ['hotel_116'] 1378 done\n",
      "130 ['hotel_382'] 1384 done\n",
      "132 ['hotel_158', 'hotel_172', 'hotel_108', 'hotel_105'] 1427 done\n",
      "133 ['hotel_338', 'hotel_215', 'hotel_369'] 1452 done\n",
      "134 ['hotel_57', 'hotel_76', 'hotel_349'] 1483 done\n",
      "135 ['hotel_38', 'hotel_288', 'hotel_35'] 1522 done\n",
      "136 ['hotel_345', 'hotel_235'] 1538 done\n",
      "139 ['hotel_342'] 1548 done\n",
      "140 ['hotel_323', 'hotel_110', 'hotel_304', 'hotel_51', 'hotel_294'] 1618 done\n",
      "141 ['hotel_3'] 1630 done\n",
      "143 ['hotel_244'] 1635 done\n",
      "145 ['hotel_236', 'hotel_142', 'hotel_400', 'hotel_29'] 1700 done\n",
      "146 ['hotel_318', 'hotel_130'] 1731 done\n",
      "149 ['hotel_78'] 1743 done\n",
      "153 ['hotel_264'] 1761 done\n",
      "154 ['hotel_183', 'hotel_62', 'hotel_68'] 1794 done\n",
      "156 ['hotel_52'] 1813 done\n",
      "157 ['hotel_61', 'hotel_4'] 1838 done\n",
      "158 ['hotel_101'] 1853 done\n",
      "159 ['hotel_220', 'hotel_275'] 1875 done\n",
      "160 ['hotel_303', 'hotel_100', 'hotel_287'] 1928 done\n",
      "162 ['hotel_136', 'hotel_152'] 1940 done\n",
      "163 ['hotel_359'] 1954 done\n",
      "165 ['hotel_390', 'hotel_281'] 1977 done\n",
      "166 ['hotel_274', 'hotel_226'] 1999 done\n",
      "167 ['hotel_171', 'hotel_377', 'hotel_122', 'hotel_348'] 2035 done\n",
      "168 ['hotel_371'] 2045 done\n",
      "169 ['hotel_266'] 2063 done\n",
      "170 ['hotel_333', 'hotel_299', 'hotel_335'] 2090 done\n",
      "171 ['hotel_179', 'hotel_128'] 2106 done\n",
      "172 ['hotel_271', 'hotel_34', 'hotel_32'] 2141 done\n",
      "175 ['hotel_210', 'hotel_71', 'hotel_346'] 2180 done\n",
      "176 ['hotel_364', 'hotel_357', 'hotel_374', 'hotel_182'] 2229 done\n",
      "178 ['hotel_114', 'hotel_383'] 2255 done\n",
      "179 ['hotel_193'] 2267 done\n",
      "180 ['hotel_272'] 2282 done\n",
      "181 ['hotel_186', 'hotel_118'] 2310 done\n",
      "182 ['hotel_255'] 2318 done\n",
      "183 ['hotel_20', 'hotel_313', 'hotel_151', 'hotel_205'] 2371 done\n",
      "184 ['hotel_290'] 2378 done\n",
      "185 ['hotel_386'] 2383 done\n",
      "186 ['hotel_200'] 2400 done\n",
      "187 ['hotel_206', 'hotel_99', 'hotel_316'] 2436 done\n",
      "189 ['hotel_133'] 2447 done\n",
      "192 ['hotel_132', 'hotel_126', 'hotel_91'] 2486 done\n",
      "193 ['hotel_37', 'hotel_36', 'hotel_161'] 2505 done\n",
      "194 ['hotel_378'] 2524 done\n",
      "195 ['hotel_328', 'hotel_14'] 2548 done\n",
      "196 ['hotel_228'] 2560 done\n",
      "197 ['hotel_67', 'hotel_221', 'hotel_260', 'hotel_353'] 2606 done\n",
      "198 ['hotel_13', 'hotel_31'] 2630 done\n",
      "200 ['hotel_89', 'hotel_391'] 2650 done\n",
      "201 ['hotel_98', 'hotel_227'] 2674 done\n",
      "202 ['hotel_64', 'hotel_143', 'hotel_56'] 2714 done\n",
      "203 ['hotel_306', 'hotel_372'] 2747 done\n",
      "204 ['hotel_140'] 2755 done\n",
      "205 ['hotel_362', 'hotel_212'] 2773 done\n",
      "206 ['hotel_148'] 2784 done\n",
      "207 ['hotel_286', 'hotel_363'] 2800 done\n",
      "208 ['hotel_248', 'hotel_96', 'hotel_356', 'hotel_50', 'hotel_285', 'hotel_83'] 2874 done\n",
      "209 ['hotel_258', 'hotel_232', 'hotel_159', 'hotel_300', 'hotel_123', 'hotel_261'] 2928 done\n",
      "210 ['hotel_392'] 2946 done\n",
      "211 ['hotel_395', 'hotel_234'] 2970 done\n",
      "212 ['hotel_216', 'hotel_396', 'hotel_325', 'hotel_21', 'hotel_138'] 3022 done\n",
      "213 ['hotel_25', 'hotel_75'] 3056 done\n",
      "214 ['hotel_240', 'hotel_46', 'hotel_310'] 3093 done\n",
      "215 ['hotel_187'] 3106 done\n",
      "216 ['hotel_347'] 3114 done\n",
      "217 ['hotel_343'] 3129 done\n",
      "219 ['hotel_361', 'hotel_259', 'hotel_119'] 3155 done\n",
      "220 ['hotel_358'] 3160 done\n",
      "221 ['hotel_315'] 3175 done\n",
      "222 ['hotel_10'] 3185 done\n",
      "224 ['hotel_12', 'hotel_180'] 3216 done\n",
      "225 ['hotel_66', 'hotel_84', 'hotel_257'] 3242 done\n",
      "226 ['hotel_65', 'hotel_146', 'hotel_11'] 3277 done\n",
      "227 ['hotel_9'] 3282 done\n",
      "228 ['hotel_156', 'hotel_385', 'hotel_327'] 3314 done\n",
      "229 ['hotel_322', 'hotel_370'] 3338 done\n",
      "230 ['hotel_69'] 3352 done\n",
      "231 ['hotel_222', 'hotel_284', 'hotel_254'] 3397 done\n",
      "232 ['hotel_326'] 3412 done\n",
      "233 ['hotel_209'] 3423 done\n",
      "235 ['hotel_336'] 3434 done\n",
      "236 ['hotel_166', 'hotel_331', 'hotel_8'] 3467 done\n",
      "238 ['hotel_54', 'hotel_376'] 3493 done\n",
      "239 ['hotel_329', 'hotel_80'] 3513 done\n",
      "240 ['hotel_199'] 3522 done\n",
      "241 ['hotel_282', 'hotel_55', 'hotel_103'] 3553 done\n",
      "242 ['hotel_188', 'hotel_60'] 3571 done\n",
      "243 ['hotel_154', 'hotel_340', 'hotel_44'] 3601 done\n",
      "244 ['hotel_115'] 3620 done\n",
      "245 ['hotel_276'] 3639 done\n",
      "246 ['hotel_355', 'hotel_229'] 3663 done\n",
      "249 ['hotel_368', 'hotel_237', 'hotel_393'] 3700 done\n",
      "250 ['hotel_191'] 3716 done\n",
      "251 ['hotel_293', 'hotel_147'] 3736 done\n",
      "252 ['hotel_81', 'hotel_131'] 3757 done\n",
      "253 ['hotel_311', 'hotel_111', 'hotel_72'] 3779 done\n",
      "255 ['hotel_124'] 3786 done\n",
      "256 ['hotel_213', 'hotel_141'] 3806 done\n",
      "258 ['hotel_162', 'hotel_307', 'hotel_178'] 3824 done\n",
      "259 ['hotel_73', 'hotel_82'] 3848 done\n",
      "260 ['hotel_263'] 3854 done\n",
      "261 ['hotel_297', 'hotel_267', 'hotel_373'] 3875 done\n",
      "263 ['hotel_379', 'hotel_48', 'hotel_225'] 3890 done\n",
      "265 ['hotel_265'] 3894 done\n",
      "266 ['hotel_87'] 3898 done\n",
      "268 ['hotel_201', 'hotel_375'] 3905 done\n",
      "269 ['hotel_308'] 3908 done\n",
      "271 ['hotel_367'] 3912 done\n",
      "273 ['hotel_43', 'hotel_253', 'hotel_185', 'hotel_1', 'hotel_270'] 3933 done\n",
      "274 ['hotel_39'] 3937 done\n",
      "275 ['hotel_239'] 3940 done\n",
      "276 ['hotel_352', 'hotel_381'] 3943 done\n",
      "277 ['hotel_314'] 3946 done\n",
      "278 ['hotel_332', 'hotel_319', 'hotel_233', 'hotel_74', 'hotel_149'] 3952 done\n",
      "279 ['hotel_278', 'hotel_127'] 3953 done\n",
      "281 ['hotel_277', 'hotel_107'] 3957 done\n",
      "282 ['hotel_41', 'hotel_117'] 3961 done\n",
      "283 ['hotel_169', 'hotel_298'] 3961 done\n",
      "284 ['hotel_399'] 3962 done\n",
      "285 ['hotel_93', 'hotel_231'] 3962 done\n",
      "286 ['hotel_164', 'hotel_388', 'hotel_312'] 3965 done\n",
      "287 ['hotel_18'] 3966 done\n",
      "288 ['hotel_97', 'hotel_202'] 3970 done\n",
      "289 ['hotel_324', 'hotel_139'] 3975 done\n",
      "290 ['hotel_245', 'hotel_380', 'hotel_63'] 3976 done\n",
      "291 ['hotel_223', 'hotel_394'] 3980 done\n",
      "292 ['hotel_217'] 3982 done\n",
      "293 ['hotel_302', 'hotel_85', 'hotel_95'] 3985 done\n",
      "295 ['hotel_289'] 3986 done\n",
      "297 ['hotel_106', 'hotel_176'] 3987 done\n",
      "298 ['hotel_341', 'hotel_5', 'hotel_250', 'hotel_184', 'hotel_168'] 3988 done\n",
      "299 ['hotel_230', 'hotel_27'] 3990 done\n"
     ]
    }
   ],
   "source": [
    "hotels_draft = hotels.copy()\n",
    "df_draft = pd.DataFrame()\n",
    "dict_hotels = hotels_draft.groupby('price')['hotel'].apply(list).to_dict()\n",
    "checked_in_full = pd.DataFrame(columns = ['guest'])\n",
    "for key in dict_hotels:\n",
    "    for hotel in dict_hotels[key]:\n",
    "        df_draft_0 = preferences[(preferences['hotel'] == hotel) & ~preferences['guest'].isin(checked_in_full['guest'])] #исключаем тех, кого заселили\n",
    "        df_draft = pd.concat([df_draft, df_draft_0], ignore_index=True)\n",
    "    for priority in priorities:\n",
    "        df_priority = df_draft[(df_draft['priority'] == priority) & ~df_draft['guest'].isin(checked_in_full['guest'])] #исключить тех, кого заселили\n",
    "        for hotel in dict_hotels[key]:\n",
    "            checked_in_guests = df_priority[df_priority['hotel'] == hotel]\n",
    "            free_rooms = hotels_draft[hotels_draft['hotel'] == hotel]['rooms'].values[0]\n",
    "            checked_in_guests = checked_in_guests[:free_rooms]\n",
    "            checked_in_full = pd.concat([checked_in_full, checked_in_guests], ignore_index=True)\n",
    "            hotels_draft.loc[hotels_draft['hotel'] == hotel, 'rooms'] -= len(checked_in_guests)\n",
    "    print(key, dict_hotels[key], len(checked_in_full), 'done')       \n",
    "    df_draft = pd.DataFrame()"
   ]
  },
  {
   "cell_type": "code",
   "execution_count": 114,
   "id": "337181fb-d12a-4e32-8e59-64b28625e22d",
   "metadata": {},
   "outputs": [
    {
     "data": {
      "text/plain": [
       "53"
      ]
     },
     "execution_count": 114,
     "metadata": {},
     "output_type": "execute_result"
    }
   ],
   "source": [
    "#check\n",
    "check = checked_in_full.pivot_table(values= ['guest'], index='hotel', aggfunc={'guest':'count'})\n",
    "check = check.reset_index()\n",
    "check = pd.merge(check, hotels, on = 'hotel', how = 'left')\n",
    "len(check[check['guest'] != check['rooms']]) #53 hotels are not full - too expensive"
   ]
  },
  {
   "cell_type": "code",
   "execution_count": 116,
   "id": "edba225e-7cc4-4ee0-b6de-fcc3ec8980fa",
   "metadata": {},
   "outputs": [],
   "source": [
    "leftovers_expensive = preferences[~preferences['guest'].isin(checked_in_full['guest'])]['guest'].unique() #3990 - 10 guests without hotel - why?"
   ]
  },
  {
   "cell_type": "code",
   "execution_count": 117,
   "id": "3df06454-5cbd-4169-b3fa-64c9b2bf2f4a",
   "metadata": {},
   "outputs": [
    {
     "data": {
      "text/plain": [
       "10"
      ]
     },
     "execution_count": 117,
     "metadata": {},
     "output_type": "execute_result"
    }
   ],
   "source": [
    "len(leftovers_expensive)"
   ]
  },
  {
   "cell_type": "code",
   "execution_count": null,
   "id": "8ad0a280-cd49-42a7-bf5c-40af762433e9",
   "metadata": {},
   "outputs": [],
   "source": [
    "#Check 10 guests and check in them in expensive hotels"
   ]
  },
  {
   "cell_type": "code",
   "execution_count": 118,
   "id": "7acabe97-59a5-4204-9e7d-96f0ff037a4f",
   "metadata": {},
   "outputs": [],
   "source": [
    "df_for_leftovers_expensive = pd.merge(hotels_new, check[check['guest'] != check['rooms']], left_on = 'hotel_number', right_on = 'hotel', how = 'inner')"
   ]
  },
  {
   "cell_type": "code",
   "execution_count": 119,
   "id": "cfed2380-5c44-4390-8b7b-55423918d06c",
   "metadata": {},
   "outputs": [],
   "source": [
    "df_for_leftovers_expensive = df_for_leftovers_expensive[df_for_leftovers_expensive['room_number'] <= df_for_leftovers_expensive['guest']]"
   ]
  },
  {
   "cell_type": "code",
   "execution_count": 120,
   "id": "22cfbcdf-e015-41c9-9ddf-a663a801972f",
   "metadata": {},
   "outputs": [],
   "source": [
    "df_for_leftovers_expensive = df_for_leftovers_expensive.sort_values('price_y')"
   ]
  },
  {
   "cell_type": "code",
   "execution_count": 121,
   "id": "15acc07f-e847-46cb-878d-63103f7aed9a",
   "metadata": {},
   "outputs": [],
   "source": [
    "df_for_leftovers_expensive = df_for_leftovers_expensive[:len(leftovers_expensive)]"
   ]
  },
  {
   "cell_type": "code",
   "execution_count": 122,
   "id": "36dae90f-33da-404e-acee-d787f878d721",
   "metadata": {},
   "outputs": [],
   "source": [
    "df_for_leftovers_expensive['leftovers'] = leftovers_expensive"
   ]
  },
  {
   "cell_type": "code",
   "execution_count": 123,
   "id": "c53a5435-d837-4e1f-a344-8beeda552277",
   "metadata": {},
   "outputs": [],
   "source": [
    "df_for_leftovers_expensive = df_for_leftovers_expensive[['leftovers', 'hotel']]"
   ]
  },
  {
   "cell_type": "code",
   "execution_count": 124,
   "id": "bd946aaa-f5ed-4eaa-adf3-3d75ce70ef3c",
   "metadata": {},
   "outputs": [],
   "source": [
    "df_for_leftovers_expensive['priority'] = 0"
   ]
  },
  {
   "cell_type": "code",
   "execution_count": 125,
   "id": "1b286098-0758-452f-bd66-394c7631131d",
   "metadata": {},
   "outputs": [],
   "source": [
    "df_for_leftovers_expensive = df_for_leftovers_expensive.rename(columns={'leftovers': 'guest'})"
   ]
  },
  {
   "cell_type": "code",
   "execution_count": 126,
   "id": "7f779119-1550-4d0d-a267-674d54711fa2",
   "metadata": {},
   "outputs": [],
   "source": [
    "checked_in_full_final = pd.concat([checked_in_full, df_for_leftovers_expensive])"
   ]
  },
  {
   "cell_type": "code",
   "execution_count": 127,
   "id": "d72e685f-3acc-4f66-99d9-9d668423082c",
   "metadata": {},
   "outputs": [],
   "source": [
    "checked_in_full_final = pd.merge(checked_in_full_final, guests, on = 'guest', how = 'left')"
   ]
  },
  {
   "cell_type": "code",
   "execution_count": 128,
   "id": "72b9f8e2-48f2-4f4e-bc64-84fccc075d23",
   "metadata": {},
   "outputs": [],
   "source": [
    "checked_in_full_final = pd.merge(checked_in_full_final, hotels, on = 'hotel', how = 'left')"
   ]
  },
  {
   "cell_type": "code",
   "execution_count": 129,
   "id": "906fdc4d-e768-4839-8d73-5589d0d59226",
   "metadata": {},
   "outputs": [],
   "source": [
    "checked_in_full_final['price_final'] = checked_in_full_final['price'] * (1 - checked_in_full_final['discount'])"
   ]
  },
  {
   "cell_type": "code",
   "execution_count": 130,
   "id": "b1c2502e-f045-4b34-86a5-dfda52cacabe",
   "metadata": {},
   "outputs": [],
   "source": [
    "checked_in_group_part3 = checked_in_full_final.pivot_table(values='price_final', index='hotel', aggfunc='sum')"
   ]
  },
  {
   "cell_type": "code",
   "execution_count": 131,
   "id": "16f02654-19dc-4325-8e2b-5ece0014955c",
   "metadata": {},
   "outputs": [
    {
     "data": {
      "text/html": [
       "<div>\n",
       "<style scoped>\n",
       "    .dataframe tbody tr th:only-of-type {\n",
       "        vertical-align: middle;\n",
       "    }\n",
       "\n",
       "    .dataframe tbody tr th {\n",
       "        vertical-align: top;\n",
       "    }\n",
       "\n",
       "    .dataframe thead th {\n",
       "        text-align: right;\n",
       "    }\n",
       "</style>\n",
       "<table border=\"1\" class=\"dataframe\">\n",
       "  <thead>\n",
       "    <tr style=\"text-align: right;\">\n",
       "      <th></th>\n",
       "      <th>price_final</th>\n",
       "    </tr>\n",
       "    <tr>\n",
       "      <th>hotel</th>\n",
       "      <th></th>\n",
       "    </tr>\n",
       "  </thead>\n",
       "  <tbody>\n",
       "    <tr>\n",
       "      <th>hotel_1</th>\n",
       "      <td>1231.23</td>\n",
       "    </tr>\n",
       "    <tr>\n",
       "      <th>hotel_10</th>\n",
       "      <td>2026.86</td>\n",
       "    </tr>\n",
       "    <tr>\n",
       "      <th>hotel_100</th>\n",
       "      <td>2734.40</td>\n",
       "    </tr>\n",
       "    <tr>\n",
       "      <th>hotel_101</th>\n",
       "      <td>2136.16</td>\n",
       "    </tr>\n",
       "    <tr>\n",
       "      <th>hotel_102</th>\n",
       "      <td>1015.43</td>\n",
       "    </tr>\n",
       "    <tr>\n",
       "      <th>...</th>\n",
       "      <td>...</td>\n",
       "    </tr>\n",
       "    <tr>\n",
       "      <th>hotel_95</th>\n",
       "      <td>237.33</td>\n",
       "    </tr>\n",
       "    <tr>\n",
       "      <th>hotel_96</th>\n",
       "      <td>2340.00</td>\n",
       "    </tr>\n",
       "    <tr>\n",
       "      <th>hotel_97</th>\n",
       "      <td>757.44</td>\n",
       "    </tr>\n",
       "    <tr>\n",
       "      <th>hotel_98</th>\n",
       "      <td>2526.57</td>\n",
       "    </tr>\n",
       "    <tr>\n",
       "      <th>hotel_99</th>\n",
       "      <td>994.84</td>\n",
       "    </tr>\n",
       "  </tbody>\n",
       "</table>\n",
       "<p>383 rows × 1 columns</p>\n",
       "</div>"
      ],
      "text/plain": [
       "           price_final\n",
       "hotel                 \n",
       "hotel_1        1231.23\n",
       "hotel_10       2026.86\n",
       "hotel_100      2734.40\n",
       "hotel_101      2136.16\n",
       "hotel_102      1015.43\n",
       "...                ...\n",
       "hotel_95        237.33\n",
       "hotel_96       2340.00\n",
       "hotel_97        757.44\n",
       "hotel_98       2526.57\n",
       "hotel_99        994.84\n",
       "\n",
       "[383 rows x 1 columns]"
      ]
     },
     "execution_count": 131,
     "metadata": {},
     "output_type": "execute_result"
    }
   ],
   "source": [
    "checked_in_group_part3"
   ]
  },
  {
   "cell_type": "code",
   "execution_count": 132,
   "id": "7f935d41-2948-4fc3-9df8-7e0c426a1fee",
   "metadata": {},
   "outputs": [
    {
     "data": {
      "text/plain": [
       "581017.41"
      ]
     },
     "execution_count": 132,
     "metadata": {},
     "output_type": "execute_result"
    }
   ],
   "source": [
    "sum(checked_in_group_part3['price_final'])"
   ]
  },
  {
   "cell_type": "markdown",
   "id": "8dcc7ead-8e9e-4c0b-a2ed-1ecc63d193bf",
   "metadata": {},
   "source": [
    "Part 4"
   ]
  },
  {
   "cell_type": "code",
   "execution_count": null,
   "id": "f70569c7-22ce-4cc1-b8c1-571ba2a40a72",
   "metadata": {},
   "outputs": [],
   "source": [
    "#sorted by availability starting with the most roomy hotel "
   ]
  },
  {
   "cell_type": "code",
   "execution_count": 133,
   "id": "5e7eb4f5-3cbe-4d00-98da-7a3505cf1abe",
   "metadata": {},
   "outputs": [],
   "source": [
    "priorities = []\n",
    "for i in range(1, max(preferences['priority']) + 1):\n",
    "    priorities.append(i)"
   ]
  },
  {
   "cell_type": "code",
   "execution_count": 134,
   "id": "48442388-d6cc-43d6-aab7-ff54ab1bdaca",
   "metadata": {},
   "outputs": [],
   "source": [
    "hotels = hotels.sort_values('rooms', ascending=False)"
   ]
  },
  {
   "cell_type": "code",
   "execution_count": 142,
   "id": "0238a614-7be6-421d-8065-c0a81b6af151",
   "metadata": {},
   "outputs": [
    {
     "name": "stdout",
     "output_type": "stream",
     "text": [
      "19 ['hotel_129', 'hotel_276', 'hotel_115', 'hotel_11', 'hotel_52', 'hotel_394', 'hotel_29', 'hotel_53', 'hotel_26', 'hotel_49', 'hotel_100', 'hotel_303', 'hotel_366', 'hotel_114', 'hotel_378', 'hotel_346', 'hotel_317', 'hotel_122'] 342 done\n",
      "18 ['hotel_56', 'hotel_392', 'hotel_144', 'hotel_277', 'hotel_278', 'hotel_2', 'hotel_344', 'hotel_173', 'hotel_12', 'hotel_39', 'hotel_305', 'hotel_189', 'hotel_32', 'hotel_356', 'hotel_372', 'hotel_142', 'hotel_126', 'hotel_17', 'hotel_374', 'hotel_313', 'hotel_59', 'hotel_264', 'hotel_4', 'hotel_328', 'hotel_323', 'hotel_266'] 810 done\n",
      "17 ['hotel_251', 'hotel_143', 'hotel_380', 'hotel_282', 'hotel_331', 'hotel_222', 'hotel_90', 'hotel_191', 'hotel_237', 'hotel_46', 'hotel_284', 'hotel_245', 'hotel_22', 'hotel_388', 'hotel_308', 'hotel_75', 'hotel_25', 'hotel_105', 'hotel_165', 'hotel_316', 'hotel_200', 'hotel_223', 'hotel_110', 'hotel_183', 'hotel_205', 'hotel_309'] 1252 done\n",
      "16 ['hotel_249', 'hotel_399', 'hotel_194', 'hotel_285', 'hotel_94', 'hotel_181', 'hotel_288', 'hotel_172', 'hotel_130', 'hotel_147', 'hotel_314', 'hotel_44', 'hotel_224', 'hotel_195', 'hotel_169', 'hotel_373', 'hotel_81', 'hotel_97', 'hotel_295', 'hotel_63'] 1572 done\n",
      "15 ['hotel_127', 'hotel_117', 'hotel_381', 'hotel_273', 'hotel_312', 'hotel_21', 'hotel_343', 'hotel_387', 'hotel_192', 'hotel_315', 'hotel_385', 'hotel_326', 'hotel_370', 'hotel_70', 'hotel_80', 'hotel_149', 'hotel_332', 'hotel_102', 'hotel_262', 'hotel_82', 'hotel_263', 'hotel_182', 'hotel_58', 'hotel_272', 'hotel_384', 'hotel_186', 'hotel_389', 'hotel_306', 'hotel_13', 'hotel_101', 'hotel_287', 'hotel_318', 'hotel_304', 'hotel_121', 'hotel_321', 'hotel_23', 'hotel_47'] 2127 done\n",
      "14 ['hotel_294', 'hotel_38', 'hotel_229', 'hotel_236', 'hotel_268', 'hotel_250', 'hotel_400', 'hotel_359', 'hotel_281', 'hotel_265', 'hotel_213', 'hotel_398', 'hotel_325', 'hotel_259', 'hotel_71', 'hotel_234', 'hotel_69', 'hotel_54', 'hotel_83', 'hotel_67', 'hotel_98', 'hotel_89', 'hotel_353', 'hotel_365', 'hotel_247'] 2477 done\n",
      "13 ['hotel_180', 'hotel_60', 'hotel_242', 'hotel_174', 'hotel_1', 'hotel_76', 'hotel_168', 'hotel_319', 'hotel_360', 'hotel_261', 'hotel_137', 'hotel_206', 'hotel_217', 'hotel_252', 'hotel_118', 'hotel_120', 'hotel_362', 'hotel_187', 'hotel_153', 'hotel_299', 'hotel_246'] 2750 done\n",
      "12 ['hotel_368', 'hotel_3', 'hotel_341', 'hotel_78', 'hotel_350', 'hotel_176', 'hotel_260', 'hotel_228', 'hotel_193', 'hotel_91', 'hotel_397', 'hotel_298', 'hotel_354', 'hotel_274', 'hotel_233', 'hotel_57', 'hotel_145', 'hotel_77', 'hotel_280', 'hotel_376', 'hotel_296', 'hotel_138', 'hotel_196', 'hotel_86', 'hotel_96', 'hotel_16'] 3062 done\n",
      "11 ['hotel_48', 'hotel_367', 'hotel_41', 'hotel_73', 'hotel_220', 'hotel_275', 'hotel_345', 'hotel_88', 'hotel_7', 'hotel_336', 'hotel_310', 'hotel_128', 'hotel_364', 'hotel_34', 'hotel_84', 'hotel_146', 'hotel_254', 'hotel_45', 'hotel_209', 'hotel_232', 'hotel_148', 'hotel_93', 'hotel_109', 'hotel_160', 'hotel_133', 'hotel_106'] 3348 done\n",
      "10 ['hotel_190', 'hotel_227', 'hotel_20', 'hotel_211', 'hotel_175', 'hotel_202', 'hotel_74', 'hotel_10', 'hotel_338', 'hotel_371', 'hotel_226', 'hotel_218', 'hotel_395', 'hotel_159', 'hotel_19', 'hotel_355', 'hotel_68', 'hotel_297', 'hotel_124', 'hotel_6', 'hotel_270', 'hotel_27', 'hotel_337', 'hotel_134', 'hotel_339', 'hotel_239', 'hotel_342'] 3618 done\n",
      "9 ['hotel_35', 'hotel_111', 'hotel_215', 'hotel_214', 'hotel_327', 'hotel_8', 'hotel_300', 'hotel_240', 'hotel_199', 'hotel_257', 'hotel_322', 'hotel_24', 'hotel_132', 'hotel_31', 'hotel_256', 'hotel_167', 'hotel_320', 'hotel_231', 'hotel_197', 'hotel_230', 'hotel_390', 'hotel_185', 'hotel_104', 'hotel_283'] 3827 done\n",
      "8 ['hotel_135', 'hotel_139', 'hotel_393', 'hotel_352', 'hotel_241', 'hotel_112', 'hotel_184', 'hotel_103', 'hotel_178', 'hotel_162', 'hotel_379', 'hotel_154', 'hotel_347', 'hotel_333', 'hotel_151', 'hotel_207', 'hotel_156', 'hotel_177', 'hotel_238', 'hotel_375', 'hotel_161', 'hotel_18', 'hotel_286', 'hotel_140', 'hotel_363', 'hotel_42', 'hotel_243', 'hotel_255'] 3940 done\n",
      "7 ['hotel_150', 'hotel_311', 'hotel_334', 'hotel_5', 'hotel_43', 'hotel_152', 'hotel_253', 'hotel_201', 'hotel_92', 'hotel_279', 'hotel_61', 'hotel_293', 'hotel_116', 'hotel_50', 'hotel_290', 'hotel_170', 'hotel_208', 'hotel_166', 'hotel_361', 'hotel_125', 'hotel_248', 'hotel_383', 'hotel_28', 'hotel_155'] 3964 done\n",
      "6 ['hotel_301', 'hotel_157', 'hotel_36', 'hotel_14', 'hotel_113', 'hotel_221', 'hotel_292', 'hotel_203', 'hotel_107', 'hotel_51', 'hotel_349', 'hotel_335', 'hotel_33', 'hotel_99', 'hotel_123', 'hotel_369', 'hotel_210', 'hotel_348', 'hotel_382', 'hotel_66', 'hotel_391', 'hotel_141', 'hotel_55', 'hotel_62', 'hotel_225', 'hotel_72', 'hotel_271', 'hotel_340', 'hotel_204', 'hotel_377', 'hotel_216'] 3984 done\n",
      "5 ['hotel_212', 'hotel_289', 'hotel_95', 'hotel_302', 'hotel_15', 'hotel_37', 'hotel_324', 'hotel_85', 'hotel_164', 'hotel_30', 'hotel_40', 'hotel_64', 'hotel_158', 'hotel_108', 'hotel_171', 'hotel_9', 'hotel_329', 'hotel_65', 'hotel_258', 'hotel_386', 'hotel_119', 'hotel_358', 'hotel_179', 'hotel_357', 'hotel_163', 'hotel_396', 'hotel_291', 'hotel_269', 'hotel_351', 'hotel_219', 'hotel_198', 'hotel_188', 'hotel_131', 'hotel_136', 'hotel_244', 'hotel_267', 'hotel_307', 'hotel_330', 'hotel_87', 'hotel_79', 'hotel_235'] 4000 done\n"
     ]
    }
   ],
   "source": [
    "hotels_draft = hotels.copy()\n",
    "df_draft = pd.DataFrame()\n",
    "dict_hotels = hotels_draft.groupby('rooms')['hotel'].apply(list).to_dict()\n",
    "checked_in_full = pd.DataFrame(columns = ['guest'])\n",
    "for key in sorted(dict_hotels, reverse=True):\n",
    "    for hotel in dict_hotels[key]:\n",
    "        df_draft_0 = preferences[(preferences['hotel'] == hotel) & ~preferences['guest'].isin(checked_in_full['guest'])] #исключаем тех, кого заселили\n",
    "        df_draft = pd.concat([df_draft, df_draft_0], ignore_index=True)\n",
    "    for priority in priorities:\n",
    "        df_priority = df_draft[(df_draft['priority'] == priority) & ~df_draft['guest'].isin(checked_in_full['guest'])] #исключить тех, кого заселили\n",
    "        for hotel in dict_hotels[key]:\n",
    "            checked_in_guests = df_priority[df_priority['hotel'] == hotel]\n",
    "            free_rooms = hotels_draft[hotels_draft['hotel'] == hotel]['rooms'].values[0]\n",
    "            checked_in_guests = checked_in_guests[:free_rooms]\n",
    "            checked_in_full = pd.concat([checked_in_full, checked_in_guests], ignore_index=True)\n",
    "            hotels_draft.loc[hotels_draft['hotel'] == hotel, 'rooms'] -= len(checked_in_guests)\n",
    "    print(key, dict_hotels[key], len(checked_in_full), 'done')       \n",
    "    df_draft = pd.DataFrame()"
   ]
  },
  {
   "cell_type": "code",
   "execution_count": 143,
   "id": "53df3cf1-8853-4755-83c8-39643b096b7c",
   "metadata": {},
   "outputs": [
    {
     "data": {
      "text/plain": [
       "73"
      ]
     },
     "execution_count": 143,
     "metadata": {},
     "output_type": "execute_result"
    }
   ],
   "source": [
    "#check\n",
    "check = checked_in_full.pivot_table(values= ['guest'], index='hotel', aggfunc={'guest':'count'})\n",
    "check = check.reset_index()\n",
    "check = pd.merge(check, hotels, on = 'hotel', how = 'left')\n",
    "len(check[check['guest'] != check['rooms']]) #53 hotels are not full - too expensive"
   ]
  },
  {
   "cell_type": "code",
   "execution_count": 147,
   "id": "e602dacb-074c-4ab4-a3c4-3d34fe4392f9",
   "metadata": {},
   "outputs": [],
   "source": [
    "check2 = checked_in_full.pivot_table( index='guest',  aggfunc={'guest':'count'})"
   ]
  },
  {
   "cell_type": "code",
   "execution_count": 148,
   "id": "671d1f9d-8fc8-403a-8ee2-90d69c32a003",
   "metadata": {},
   "outputs": [
    {
     "data": {
      "text/html": [
       "<div>\n",
       "<style scoped>\n",
       "    .dataframe tbody tr th:only-of-type {\n",
       "        vertical-align: middle;\n",
       "    }\n",
       "\n",
       "    .dataframe tbody tr th {\n",
       "        vertical-align: top;\n",
       "    }\n",
       "\n",
       "    .dataframe thead th {\n",
       "        text-align: right;\n",
       "    }\n",
       "</style>\n",
       "<table border=\"1\" class=\"dataframe\">\n",
       "  <thead>\n",
       "    <tr style=\"text-align: right;\">\n",
       "      <th></th>\n",
       "      <th>guest</th>\n",
       "    </tr>\n",
       "    <tr>\n",
       "      <th>guest</th>\n",
       "      <th></th>\n",
       "    </tr>\n",
       "  </thead>\n",
       "  <tbody>\n",
       "    <tr>\n",
       "      <th>guest_1</th>\n",
       "      <td>1</td>\n",
       "    </tr>\n",
       "    <tr>\n",
       "      <th>guest_10</th>\n",
       "      <td>1</td>\n",
       "    </tr>\n",
       "    <tr>\n",
       "      <th>guest_100</th>\n",
       "      <td>1</td>\n",
       "    </tr>\n",
       "    <tr>\n",
       "      <th>guest_1000</th>\n",
       "      <td>1</td>\n",
       "    </tr>\n",
       "    <tr>\n",
       "      <th>guest_1001</th>\n",
       "      <td>1</td>\n",
       "    </tr>\n",
       "    <tr>\n",
       "      <th>...</th>\n",
       "      <td>...</td>\n",
       "    </tr>\n",
       "    <tr>\n",
       "      <th>guest_995</th>\n",
       "      <td>1</td>\n",
       "    </tr>\n",
       "    <tr>\n",
       "      <th>guest_996</th>\n",
       "      <td>1</td>\n",
       "    </tr>\n",
       "    <tr>\n",
       "      <th>guest_997</th>\n",
       "      <td>1</td>\n",
       "    </tr>\n",
       "    <tr>\n",
       "      <th>guest_998</th>\n",
       "      <td>1</td>\n",
       "    </tr>\n",
       "    <tr>\n",
       "      <th>guest_999</th>\n",
       "      <td>1</td>\n",
       "    </tr>\n",
       "  </tbody>\n",
       "</table>\n",
       "<p>4000 rows × 1 columns</p>\n",
       "</div>"
      ],
      "text/plain": [
       "            guest\n",
       "guest            \n",
       "guest_1         1\n",
       "guest_10        1\n",
       "guest_100       1\n",
       "guest_1000      1\n",
       "guest_1001      1\n",
       "...           ...\n",
       "guest_995       1\n",
       "guest_996       1\n",
       "guest_997       1\n",
       "guest_998       1\n",
       "guest_999       1\n",
       "\n",
       "[4000 rows x 1 columns]"
      ]
     },
     "execution_count": 148,
     "metadata": {},
     "output_type": "execute_result"
    }
   ],
   "source": [
    "check2[check2['guest'] == 1] #3990 so cool!"
   ]
  },
  {
   "cell_type": "code",
   "execution_count": 150,
   "id": "fb453315-dc1b-4fa9-9b82-2a01d501f4fb",
   "metadata": {},
   "outputs": [],
   "source": [
    "think_tank = ['hotel_190', 'hotel_49']\n",
    "df_for_hotel = pd.DataFrame()\n",
    "df_merged = pd.DataFrame()\n",
    "not_checked_in_guests = preferences\n",
    "for hotel in think_tank:\n",
    "    df_for_hotel = not_checked_in_guests[not_checked_in_guests['hotel'] == hotel]\n",
    "    df_for_hotel = df_for_hotel.sort_values(by = ['priority']).sort_index(ascending=True)\n",
    "    df_for_hotel.to_excel(f'output_{hotel}.xlsx', index=False)"
   ]
  },
  {
   "cell_type": "code",
   "execution_count": 151,
   "id": "0a30f014-ef46-4545-b4f2-6ee402b8fc69",
   "metadata": {},
   "outputs": [],
   "source": [
    "pivot_hotels = hotels.pivot_table(values='hotel', index='price', aggfunc='count')"
   ]
  },
  {
   "cell_type": "markdown",
   "id": "67bb21d6-7995-4328-b791-d5cb6bb7dec5",
   "metadata": {},
   "source": [
    "Все, что дальше - не нужно"
   ]
  }
 ],
 "metadata": {
  "kernelspec": {
   "display_name": "Python 3 (ipykernel)",
   "language": "python",
   "name": "python3"
  },
  "language_info": {
   "codemirror_mode": {
    "name": "ipython",
    "version": 3
   },
   "file_extension": ".py",
   "mimetype": "text/x-python",
   "name": "python",
   "nbconvert_exporter": "python",
   "pygments_lexer": "ipython3",
   "version": "3.13.0"
  }
 },
 "nbformat": 4,
 "nbformat_minor": 5
}
