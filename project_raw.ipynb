{
 "cells": [
  {
   "cell_type": "code",
   "execution_count": 210,
   "id": "cd25d046-9bf9-4aeb-b088-19bd731605ad",
   "metadata": {},
   "outputs": [],
   "source": [
    "#pip install pandas\n",
    "#pip install openpyxl\n",
    "#pip install matplotlib\n",
    "#pip install seaborn"
   ]
  },
  {
   "cell_type": "code",
   "execution_count": 3,
   "id": "7106fdc8-aeaf-4c66-8eba-77f765c4e8de",
   "metadata": {},
   "outputs": [],
   "source": [
    "import pandas as pd\n",
    "import numpy as np\n",
    "import matplotlib.pyplot as plt\n",
    "import seaborn as sns"
   ]
  },
  {
   "cell_type": "code",
   "execution_count": 44,
   "id": "14e5fa22-916c-4093-bd71-9c04979997e0",
   "metadata": {},
   "outputs": [],
   "source": [
    "hotels = pd.read_excel('hotels.xlsx')"
   ]
  },
  {
   "cell_type": "code",
   "execution_count": 45,
   "id": "2e79c79e-d199-4e05-9bf2-3e532bc2e0ee",
   "metadata": {},
   "outputs": [],
   "source": [
    "preferences = pd.read_excel('preferences.xlsx')"
   ]
  },
  {
   "cell_type": "code",
   "execution_count": 46,
   "id": "7d1d3307-72b1-4a74-8b6c-ed657c7a4e8b",
   "metadata": {},
   "outputs": [],
   "source": [
    "guests = pd.read_excel('guests.xlsx')"
   ]
  },
  {
   "cell_type": "code",
   "execution_count": 47,
   "id": "556132e5-6dc6-408b-8199-14d24fbd28a0",
   "metadata": {},
   "outputs": [],
   "source": [
    "files = [hotels, preferences, guests]"
   ]
  },
  {
   "cell_type": "code",
   "execution_count": 48,
   "id": "93c5b341-25b6-4c5b-acbb-3709d20335e0",
   "metadata": {},
   "outputs": [],
   "source": [
    "for file in files[:2]:\n",
    "    file = file.iloc[:, 1:]"
   ]
  },
  {
   "cell_type": "code",
   "execution_count": 49,
   "id": "c76de22d-107c-40f5-89b0-52eeff899c7c",
   "metadata": {},
   "outputs": [],
   "source": [
    "guests.rename(columns={'Unnamed: 0': 'index'}, inplace=True)"
   ]
  },
  {
   "cell_type": "code",
   "execution_count": 23,
   "id": "27288041-acb9-4ec5-9d77-56cfee10daa8",
   "metadata": {},
   "outputs": [],
   "source": [
    "def distribution_by_hotels(sorted_values, sort_values_order):\n",
    "    priorities = []\n",
    "    for i in range(1, max(preferences['priority']) + 1):\n",
    "        priorities.append(i)\n",
    "    hotels_draft = hotels.copy()\n",
    "    df_draft = pd.DataFrame()\n",
    "    dict_hotels = hotels_draft.groupby(sorted_values)['hotel'].apply(list).to_dict()\n",
    "    checked_in_full = pd.DataFrame(columns = ['guest'])\n",
    "    for key in sorted(dict_hotels, reverse = sort_values_order):\n",
    "        for hotel in dict_hotels[key]:\n",
    "            df_draft_0 = preferences[(preferences['hotel'] == hotel) & ~preferences['guest'].isin(checked_in_full['guest'])] #исключаем тех, кого заселили\n",
    "            df_draft = pd.concat([df_draft, df_draft_0], ignore_index=True)\n",
    "        for priority in priorities:\n",
    "            df_priority = df_draft[(df_draft['priority'] == priority) & ~df_draft['guest'].isin(checked_in_full['guest'])] #исключить тех, кого заселили\n",
    "            for hotel in dict_hotels[key]:\n",
    "                checked_in_guests = df_priority[df_priority['hotel'] == hotel]\n",
    "                free_rooms = hotels_draft[hotels_draft['hotel'] == hotel]['rooms'].values[0]\n",
    "                checked_in_guests = checked_in_guests[:free_rooms]\n",
    "                checked_in_full = pd.concat([checked_in_full, checked_in_guests], ignore_index=True)\n",
    "                hotels_draft.loc[hotels_draft['hotel'] == hotel, 'rooms'] -= len(checked_in_guests)\n",
    "        print(key, len(checked_in_full))\n",
    "        df_draft = pd.DataFrame()\n",
    "    if len(checked_in_full) == len(guests):\n",
    "        print(\"All guests are checked in.\")     \n",
    "    else:\n",
    "        print(len(checked_in_full), \"guests are checked in. The rest will be checked in according to the order of hotels.\")\n",
    "        leftovers_expensive = preferences[~preferences['guest'].isin(checked_in_full['guest'])]['guest'].unique() #3990\n",
    "        check = checked_in_full.pivot_table(values= ['guest'], index='hotel', aggfunc={'guest':'count'})\n",
    "        check = check.reset_index()\n",
    "        check = pd.merge(check, hotels, on = 'hotel', how = 'left') #53 hotels are not full - too expensive\n",
    "        df_for_leftovers_expensive = pd.merge(hotels_new, check[check['guest'] != check['rooms']], on = 'hotel', how = 'inner') \n",
    "        df_for_leftovers_expensive = df_for_leftovers_expensive[df_for_leftovers_expensive['room_number'] <= df_for_leftovers_expensive['guest']]\n",
    "        df_for_leftovers_expensive = df_for_leftovers_expensive.sort_values('price_y')\n",
    "        df_for_leftovers_expensive = df_for_leftovers_expensive[:len(leftovers_expensive)]\n",
    "        df_for_leftovers_expensive['leftovers'] = leftovers_expensive\n",
    "        df_for_leftovers_expensive = df_for_leftovers_expensive[['leftovers', 'hotel']]\n",
    "        df_for_leftovers_expensive['priority'] = 0\n",
    "        df_for_leftovers_expensive = df_for_leftovers_expensive.rename(columns={'leftovers': 'guest'})\n",
    "        checked_in_full = pd.concat([checked_in_full, df_for_leftovers_expensive])\n",
    "    checked_in_full = checked_in_full.rename(columns={'priority': 'priority_number'})\n",
    "    checked_in_full = pd.merge(checked_in_full, guests, on = 'guest', how = 'left')\n",
    "    checked_in_full = pd.merge(checked_in_full, hotels, on = 'hotel', how = 'left')\n",
    "    checked_in_full['price_final'] = checked_in_full['price'] * (1 - checked_in_full['discount'])\n",
    "    return checked_in_full"
   ]
  },
  {
   "cell_type": "code",
   "execution_count": 218,
   "id": "5f6b532f-5662-4b7c-8bd4-9f9c23af8029",
   "metadata": {},
   "outputs": [
    {
     "data": {
      "text/plain": [
       "50"
      ]
     },
     "execution_count": 218,
     "metadata": {},
     "output_type": "execute_result"
    }
   ],
   "source": [
    "min(hotels['price']) #min price for defining categories of price"
   ]
  },
  {
   "cell_type": "code",
   "execution_count": 219,
   "id": "44342dee-31e5-4e20-aa34-420963fca8e4",
   "metadata": {},
   "outputs": [
    {
     "data": {
      "text/plain": [
       "299"
      ]
     },
     "execution_count": 219,
     "metadata": {},
     "output_type": "execute_result"
    }
   ],
   "source": [
    "max(hotels['price']) #max price for defining categories of price"
   ]
  },
  {
   "cell_type": "markdown",
   "id": "0ed85145-c26f-46b5-aa04-775ee750e44c",
   "metadata": {},
   "source": [
    "4 categories from 50 to 300 (for beauty numbers) means that we divide categories for 250/4 = 62,5 buckets:\n",
    "50 - 112,5 \n",
    "112, 5 - 175\n",
    "175-237,5\n",
    "237,5 - 300"
   ]
  },
  {
   "cell_type": "code",
   "execution_count": 28,
   "id": "326c7855-1912-4f86-98c0-cad5409361e5",
   "metadata": {},
   "outputs": [],
   "source": [
    "categories = ['Economy', 'Affordable', 'Premium', 'Luxury']"
   ]
  },
  {
   "cell_type": "code",
   "execution_count": 24,
   "id": "5478dafc-fbdd-4be1-8720-01c120fe35e9",
   "metadata": {},
   "outputs": [],
   "source": [
    "def df_visualisation(merged_distribution):\n",
    "    pivot_for_visualisation = merged_distribution.pivot_table(values= ['guest', 'rooms', 'price', 'price_final'], index='hotel', \n",
    "                                                          aggfunc={'guest':'count', 'rooms':'mean', 'price':'mean', 'price_final':'sum'}, observed=False)\n",
    "    pivot_for_visualisation = pivot_for_visualisation.reset_index()\n",
    "    # Assign price categories to hotels and order categories according to lowest and highest \n",
    "    conditions = [\n",
    "    (pivot_for_visualisation['price'] >= 50) & (pivot_for_visualisation['price'] < 112.5),\n",
    "    (pivot_for_visualisation['price'] >= 112.5) & (pivot_for_visualisation['price'] < 175),\n",
    "    (pivot_for_visualisation['price'] >= 175) & (pivot_for_visualisation['price'] < 237.5),\n",
    "    (pivot_for_visualisation['price'] >= 237.5)]\n",
    "    \n",
    "    pivot_for_visualisation['price_category'] = np.select(conditions, categories, default='Unknown')\n",
    "    pivot_for_visualisation['price_category'] = pd.Categorical(pivot_for_visualisation['price_category'], categories=categories, ordered=True)\n",
    "    \n",
    "    pivot_for_visualisation['check_in_percentage'] = pivot_for_visualisation['guest'] / pivot_for_visualisation['rooms']\n",
    "    return pivot_for_visualisation"
   ]
  },
  {
   "cell_type": "code",
   "execution_count": 25,
   "id": "9263ad70-53f2-46fb-b4aa-090d80eb4746",
   "metadata": {},
   "outputs": [],
   "source": [
    "# Universal color palette for all charts\n",
    "color_palette = ['#88c4e8', '#ff9b85', '#ffce64', '#7c8eb1']\n",
    "\n",
    "# Function for building a bar chart with labels\n",
    "def plot_bar_chart(data, title, xlabel, ylabel, categories=None):\n",
    "    plt.figure(figsize=(6, 4))  # Size\n",
    "    ax = data.plot(kind='bar', color=color_palette)  # Column chart with universal color palette\n",
    "    \n",
    "    # Adding captions to columns\n",
    "    for p in ax.patches:\n",
    "        value = round(p.get_height(), 2)  # Rounding the number for labeling\n",
    "        ax.annotate(f'{value}',  # Text with numbers\n",
    "                    (p.get_x() + p.get_width() / 2, p.get_height()),  # Central position\n",
    "                    ha='center', va='center', fontsize=8, color='black', xytext=(0, 5), textcoords='offset points')\n",
    "    \n",
    "    # Bar chart settings\n",
    "    plt.title(title, fontsize=12)\n",
    "    plt.xlabel(xlabel, fontsize=10)\n",
    "    plt.ylabel(ylabel, fontsize=10)\n",
    "    if categories:\n",
    "        plt.xticks(ticks=range(len(categories)), labels=categories)  # Label X\n",
    "    plt.xticks(rotation=45, ha='right')  # Rotate labels of X\n",
    "    plt.tight_layout()  # Improved element layout\n",
    "    plt.show()\n",
    "\n",
    "# Function for creating a scatterplot and adding labels to key points. highlight_points - list of indices for points that should be signed (default None)\n",
    "# xticks - X-axis labels (default None)\n",
    "def plot_scatter(x, y, title, xlabel, ylabel, highlight_points=None, color='green', xticks=None):\n",
    "    # Building a scatter plot\n",
    "    plt.figure(figsize=(6, 4))\n",
    "    plt.scatter(x, y, alpha=0.5, color=color)\n",
    "\n",
    "    # Set up X-axis ticks (if xticks is passed)\n",
    "    if xticks is not None:\n",
    "        plt.xticks(xticks)\n",
    "\n",
    "    # Sign key points if they are transmitted\n",
    "    if highlight_points is not None:\n",
    "        for idx in highlight_points:\n",
    "            plt.text(x[idx], y[idx], f'({y[idx]:.2f})', fontsize=7, ha='center', va='bottom', color='red')\n",
    "\n",
    "    # Graph settings\n",
    "    plt.title(title, fontsize=14)\n",
    "    plt.xlabel(xlabel, fontsize=12)\n",
    "    plt.ylabel(ylabel, fontsize=12)\n",
    "    plt.grid(True, linestyle='--', alpha=0.7)\n",
    "\n",
    "    # Graph depiction\n",
    "    plt.tight_layout()\n",
    "    plt.show()\n",
    "\n",
    "# Universal function for plotting all graphs\n",
    "def plot_all_graphs(pivot_for_visualisation, categories):\n",
    "    # Data for graphs\n",
    "    data_list = [\n",
    "        (pivot_for_visualisation['price_category'].value_counts().reindex(categories), \n",
    "         'Hotels Price Distribution', 'Price Category', 'Amount of Hotels', categories),\n",
    "        \n",
    "        (pivot_for_visualisation.groupby('price_category', observed=False)['guest'].sum(), \n",
    "         'Distribution of Guests by Price Category', 'Price Category', 'Total Number of Guests', categories),\n",
    "        \n",
    "        (pivot_for_visualisation.groupby('price_category', observed=False)['price_final'].sum(), \n",
    "         'Total Revenue Distribution', 'Price Category', 'Total Revenue', categories)\n",
    "    ]\n",
    "\n",
    "    # Loop to build all bar charts\n",
    "    for data, title, xlabel, ylabel, categories in data_list:\n",
    "        plot_bar_chart(data, title, xlabel, ylabel, categories)\n",
    "\n",
    "    # Box plot\n",
    "    plt.figure(figsize=(6, 4))\n",
    "    ax = plt.boxplot(pivot_for_visualisation['price_final'], patch_artist=True, notch=True, vert=False, widths=0.7, \n",
    "                     medianprops=dict(color='brown', linewidth=2), flierprops=dict(marker='o', color='green', markersize=10, alpha=0.8),\n",
    "                    boxprops=dict(facecolor='beige', color='brown'))\n",
    "\n",
    "    plt.title('Distribution of Hotel Revenue (Box Plot)', fontsize=12)\n",
    "    plt.xlabel('Revenue', fontsize=10)\n",
    "    plt.yticks([1], ['Hotels'])\n",
    "    plt.grid(True, linestyle='--', alpha=0.7)\n",
    "\n",
    "    # Add median\n",
    "    median_value = round(pivot_for_visualisation['price_final'].median(), 2)\n",
    "    plt.annotate(f'Median: {median_value}', xy=(median_value, 1), xytext=(median_value + 100, 1.05),\n",
    "                 arrowprops=dict(arrowstyle=\"->\", color='brown'), fontsize=12, color='brown')\n",
    "\n",
    "    plt.tight_layout()\n",
    "    plt.show()\n",
    "    \n",
    "    # Revenue distribution by number of guests\n",
    "    x = pivot_for_visualisation['guest']\n",
    "    y = pivot_for_visualisation['price_final']\n",
    "\n",
    "    # Finding key point indices for signatures (minimum and maximum)\n",
    "    key_points_indices = [x.idxmax(), x.idxmin(), y.idxmax(), y.idxmin()]\n",
    "\n",
    "    # Calling a function to distribute revenue by number of guests\n",
    "    plot_scatter(x, y, \n",
    "                 title='Scatter Plot of Price Distribution According to Number of Guests',\n",
    "                 xlabel='Number of Guests',\n",
    "                 ylabel='Total Revenue of Hotel',\n",
    "                 highlight_points=key_points_indices, \n",
    "                 color='green',\n",
    "                 xticks=range(int(x.min()), int(x.max())+1, 1))\n",
    "    \n",
    "    # Occupancy rate by hotel\n",
    "    x = pivot_for_visualisation.index  # hotel indexes\n",
    "    y = pivot_for_visualisation['check_in_percentage']\n",
    "\n",
    "    # We find the indexes of the 3 most unoccupied hotels\n",
    "    bottom_3_hotels = pivot_for_visualisation.nsmallest(3, 'check_in_percentage')\n",
    "    \n",
    "    # Calling the function for the second graph\n",
    "    plot_scatter(x, y, \n",
    "                 title='Hotel Check-in Percentage',\n",
    "                 xlabel='Hotel Index',\n",
    "                 ylabel='Check-in Percentage',\n",
    "                 highlight_points=bottom_3_hotels.index,\n",
    "                 color='green',\n",
    "                 xticks=[])"
   ]
  },
  {
   "cell_type": "code",
   "execution_count": 26,
   "id": "67becb0b-e01b-494b-840d-c623a800264c",
   "metadata": {},
   "outputs": [],
   "source": [
    "def plot_satisfaction(merged_distribution):\n",
    "    # We aggregate preferences by guests, creating a list of hotels by priority\n",
    "    df_guest_preferences = preferences.groupby('guest')['hotel'].apply(list).reset_index()\n",
    "    df_guest_preferences.columns = ['guest', 'priority']\n",
    "    \n",
    "    # We merge data of preferences and actual settlement\n",
    "    df_for_satisfaction = pd.merge(df_guest_preferences, merged_distribution, on='guest')\n",
    "    \n",
    "    # Function for calculating satisfaction\n",
    "    def calculate_satisfaction(row):\n",
    "        # Find the index of the actual hotel in the list of preferences\n",
    "        preferences_list = row['priority']\n",
    "        \n",
    "        if row['hotel'] in preferences_list:\n",
    "            satisfaction = 1 - preferences_list.index(row['hotel']) / len(preferences_list)\n",
    "        else:\n",
    "            satisfaction = 0  # If the hotel is not on the list of preferences, then satisfaction is minimal\n",
    "        return satisfaction\n",
    "    \n",
    "    # We apply the function for each guest\n",
    "    df_for_satisfaction['satisfaction'] = df_for_satisfaction.apply(calculate_satisfaction, axis=1)\n",
    "    \n",
    "    # A histogram to display the distribution of satisfaction\n",
    "    plt.figure(figsize=(6, 4))\n",
    "    plt.hist(df_for_satisfaction['satisfaction'], bins=20, color='skyblue', edgecolor='black')\n",
    "    plt.title('Distribution of Guest Satisfaction', fontsize=14)\n",
    "    plt.xlabel('Satisfaction Level', fontsize=12)\n",
    "    plt.ylabel('Number of Guests', fontsize=12)\n",
    "    plt.grid(True, linestyle='--', alpha=0.7)\n",
    "    plt.show()\n",
    "    \n",
    "    # Seaborn graph\n",
    "    # We aggregate the data: for each hotel we calculate the average guest satisfaction\n",
    "    hotel_satisfaction = df_for_satisfaction.groupby('hotel')['satisfaction'].mean()\n",
    "    \n",
    "    # Let's prepare the data for display\n",
    "    data = hotel_satisfaction.values.reshape(1, -1)\n",
    "    \n",
    "    # We build a graph without axes and labels\n",
    "    plt.figure(figsize=(14, 2))  # We reduce the height, since there are no signatures\n",
    "    plt.imshow(data, aspect='auto', cmap='YlGnBu', interpolation='nearest')\n",
    "    \n",
    "    # Adding a color scale\n",
    "    plt.colorbar(label='Satisfaction')\n",
    "    \n",
    "    # Removing the axes\n",
    "    plt.xticks([])  \n",
    "    plt.yticks([])\n",
    "    \n",
    "    # Adding a title\n",
    "    plt.title('Guest Satisfaction by Hotel', fontsize=16)\n",
    "    \n",
    "    # Improving chart interpretation\n",
    "    plt.tight_layout()\n",
    "    \n",
    "    # Graph depiction\n",
    "    plt.show()"
   ]
  },
  {
   "cell_type": "code",
   "execution_count": 13,
   "id": "c1e10279-af48-4055-8318-72792257b7f3",
   "metadata": {},
   "outputs": [
    {
     "data": {
      "text/html": [
       "<div>\n",
       "<style scoped>\n",
       "    .dataframe tbody tr th:only-of-type {\n",
       "        vertical-align: middle;\n",
       "    }\n",
       "\n",
       "    .dataframe tbody tr th {\n",
       "        vertical-align: top;\n",
       "    }\n",
       "\n",
       "    .dataframe thead th {\n",
       "        text-align: right;\n",
       "    }\n",
       "</style>\n",
       "<table border=\"1\" class=\"dataframe\">\n",
       "  <thead>\n",
       "    <tr style=\"text-align: right;\">\n",
       "      <th></th>\n",
       "      <th>Unnamed: 0</th>\n",
       "      <th>hotel</th>\n",
       "      <th>rooms</th>\n",
       "      <th>price</th>\n",
       "    </tr>\n",
       "  </thead>\n",
       "  <tbody>\n",
       "  </tbody>\n",
       "</table>\n",
       "</div>"
      ],
      "text/plain": [
       "Empty DataFrame\n",
       "Columns: [Unnamed: 0, hotel, rooms, price]\n",
       "Index: []"
      ]
     },
     "execution_count": 13,
     "metadata": {},
     "output_type": "execute_result"
    }
   ],
   "source": [
    "hotels[hotels['rooms'] == 0] #just in case"
   ]
  },
  {
   "cell_type": "code",
   "execution_count": 50,
   "id": "033a5ce2-35f9-4eeb-b63c-c805c0c7416a",
   "metadata": {},
   "outputs": [],
   "source": [
    "hotels_new = pd.DataFrame(columns = ['room_number', 'hotel', 'rooms', 'price'])\n",
    "for i in hotels['hotel']:\n",
    "    room_numbers = hotels[hotels['hotel'] == i]['rooms'].values[0]\n",
    "    price = hotels[hotels['hotel'] == i]['price'].values[0]\n",
    "    rooms = hotels[hotels['hotel'] == i]['price'].values[0]\n",
    "    a = 0\n",
    "    for j in range(room_numbers):\n",
    "        a +=1 \n",
    "        hotels_new.loc[len(hotels_new)] = [a, i, room_numbers, price]\n",
    "    hotels_new"
   ]
  },
  {
   "cell_type": "code",
   "execution_count": 15,
   "id": "9e51b4ef-44ba-449c-9085-8b7e68e9b192",
   "metadata": {},
   "outputs": [],
   "source": [
    "random_numbers = np.random.permutation(len(hotels_new))"
   ]
  },
  {
   "cell_type": "code",
   "execution_count": 16,
   "id": "fc2a0729-bcee-4313-b1fa-e72cc65adb98",
   "metadata": {},
   "outputs": [],
   "source": [
    "hotels_new['random_number'] = random_numbers"
   ]
  },
  {
   "cell_type": "code",
   "execution_count": 17,
   "id": "7118c6b0-5d50-4c40-a71f-031bdf633bdb",
   "metadata": {},
   "outputs": [],
   "source": [
    "hotels_new2 = hotels_new[hotels_new['random_number'] <= 3999]"
   ]
  },
  {
   "cell_type": "code",
   "execution_count": 18,
   "id": "d20109a9-7112-4357-8600-998aa76cf78b",
   "metadata": {},
   "outputs": [],
   "source": [
    "merged_distribution = pd.merge(hotels_new2, guests, left_on = 'random_number', right_on = 'index', how = 'left')"
   ]
  },
  {
   "cell_type": "code",
   "execution_count": 19,
   "id": "d29f41d1-94f8-4a58-8a5e-1fe0690dadd3",
   "metadata": {},
   "outputs": [],
   "source": [
    "merged_distribution['price_final'] = merged_distribution['price'] * (1 - merged_distribution['discount'])"
   ]
  },
  {
   "cell_type": "markdown",
   "id": "3f157cf6-2eca-4ee1-85b2-aacd02566074",
   "metadata": {},
   "source": [
    "New price order - my own creation to increase total revenue, still it will increase reputation risks and damage guests' loyalty "
   ]
  },
  {
   "cell_type": "code",
   "execution_count": 231,
   "id": "709b025c-3659-445f-97a6-52d378778009",
   "metadata": {},
   "outputs": [],
   "source": [
    "# hotels_new_price_order = hotels_new.sort_values(by='price', ascending=False)"
   ]
  },
  {
   "cell_type": "code",
   "execution_count": 232,
   "id": "9ee4953c-643b-4410-a466-ce10141f7891",
   "metadata": {},
   "outputs": [],
   "source": [
    "# hotels_new_price_order = hotels_new_price_order.head(4000)"
   ]
  },
  {
   "cell_type": "code",
   "execution_count": 233,
   "id": "be291efd-67b6-4503-89ac-221d0ffe2a2f",
   "metadata": {},
   "outputs": [],
   "source": [
    "# random_numbers2 = np.random.permutation(len(hotels_new_price_order))"
   ]
  },
  {
   "cell_type": "code",
   "execution_count": 234,
   "id": "fb0676b5-a404-4537-93ae-b1e0ba71ddf0",
   "metadata": {},
   "outputs": [],
   "source": [
    "# hotels_new_price_order['random_number'] = random_numbers2"
   ]
  },
  {
   "cell_type": "code",
   "execution_count": 235,
   "id": "f0ccb52f-6b40-4a39-a33a-d66ef42e932d",
   "metadata": {},
   "outputs": [],
   "source": [
    "# merged_distribution_order = pd.merge(hotels_new_price_order, guests, left_on = 'random_number', right_on = 'index', how = 'left')"
   ]
  },
  {
   "cell_type": "code",
   "execution_count": 236,
   "id": "c4f7ae9a-3cc0-4fec-acc1-17c4ded306a8",
   "metadata": {},
   "outputs": [],
   "source": [
    "# merged_distribution_order['price_final'] = merged_distribution_order['price'] * (1 - merged_distribution_order['discount'])"
   ]
  },
  {
   "cell_type": "markdown",
   "id": "2647af08-8093-4640-b24f-2ca4e4530ac4",
   "metadata": {},
   "source": [
    "Visualisation part"
   ]
  },
  {
   "cell_type": "code",
   "execution_count": 237,
   "id": "f125a5b8-da83-4b7a-825a-d674be8f6c34",
   "metadata": {},
   "outputs": [],
   "source": [
    "pivot_for_visualisation = df_visualisation(merged_distribution)"
   ]
  },
  {
   "cell_type": "code",
   "execution_count": null,
   "id": "811a963c-0d2a-4622-9230-a4c48dc1c05a",
   "metadata": {},
   "outputs": [],
   "source": [
    "plot_all_graphs(pivot_for_visualisation, categories)"
   ]
  },
  {
   "cell_type": "code",
   "execution_count": null,
   "id": "5b462377-3f78-416c-8d28-aff74d4ee497",
   "metadata": {},
   "outputs": [],
   "source": [
    "plot_satisfaction(merged_distribution)"
   ]
  },
  {
   "cell_type": "markdown",
   "id": "0ba821d4-c107-43d2-8508-60407a43fa3b",
   "metadata": {},
   "source": [
    "Part 2"
   ]
  },
  {
   "cell_type": "code",
   "execution_count": 52,
   "id": "41b08320-a59e-459d-ac7f-166f54defa3d",
   "metadata": {},
   "outputs": [],
   "source": [
    "list_priorities = preferences['priority'].unique().tolist()\n",
    "\n",
    "# Копируем оригинальные данные\n",
    "hotels_rest = hotels.copy()\n",
    "hotels_rest['rest'] = hotels['rooms']\n",
    "hotels_rest['guests'] = 0\n",
    "\n",
    "# Создаем DataFrame для гостей, которые еще не заселились\n",
    "not_checked_in_guests = guests.copy()\n",
    "\n",
    "# Процесс заселения\n",
    "checked_in_guests = pd.DataFrame()  # Пустой DataFrame для заселенных гостей\n",
    "\n",
    "for priority in list_priorities:\n",
    "    # Фильтрация предпочтений по приоритетам\n",
    "    start_df = preferences[(preferences['priority'] == priority) & preferences['guest'].isin(not_checked_in_guests['guest'])].copy()\n",
    "    \n",
    "    # Порядковый номер для каждого гостя в отеле\n",
    "    start_df['rn'] = start_df.groupby('hotel').cumcount() + 1\n",
    "    \n",
    "    # Объединение с данными об отелях\n",
    "    df_hotels = pd.merge(start_df, hotels_rest, on='hotel', how='left')\n",
    "    \n",
    "    # Обновление списка заселенных гостей\n",
    "    checked_in_guests = pd.concat([checked_in_guests, df_hotels[df_hotels['rn'] <= df_hotels['rest']]], ignore_index=True)\n",
    "    \n",
    "    # Обновление списка не заселенных гостей\n",
    "    not_checked_in_guests = df_hotels[df_hotels['rn'] > df_hotels['rest']]\n",
    "    \n",
    "    # Обновление состояния отелей\n",
    "    hotels_rest = df_hotels.groupby('hotel').agg({'guests': 'count', 'rooms': 'mean', 'price': 'mean'}).reset_index()\n",
    "    hotels_rest['rest'] = hotels_rest['rooms'] - hotels_rest['guests']\n",
    "\n",
    "# Гостиницы, в которых осталось место\n",
    "check_df = preferences[~preferences['guest'].isin(checked_in_guests['guest'])]\n",
    "guests_leftovers = check_df['guest'].unique().tolist()\n",
    "x = len(guests_leftovers)\n",
    "\n",
    "# Отели, в которых есть свободные номера и сортировка по цене\n",
    "hotels_for_leftovers = hotels_rest[hotels_rest['rest'] > 0].sort_values('price')\n",
    "\n",
    "# Получаем комнаты для оставшихся гостей\n",
    "rooms_leftovers = pd.merge(hotels_new, hotels_for_leftovers, on='hotel', how='inner')\n",
    "rooms_leftovers = rooms_leftovers[rooms_leftovers['room_number'] > rooms_leftovers['guests']].sort_values('price_x')[:x]\n",
    "\n",
    "# Присваиваем оставшихся гостей\n",
    "rooms_leftovers['guest'] = guests_leftovers\n",
    "rooms_leftovers['priority'] = 0\n",
    "\n",
    "# Переименовываем столбцы\n",
    "rooms_leftovers = rooms_leftovers.rename(columns={'price_y': 'price', 'rooms_x': 'rooms'})\n",
    "\n",
    "# Объединяем все данные\n",
    "final_guests = pd.concat([checked_in_guests[['guest', 'hotel', 'price', 'rooms']], rooms_leftovers[['guest', 'hotel', 'price', 'rooms']]], ignore_index=True)\n",
    "\n",
    "# Применяем скидки\n",
    "final_guests = pd.merge(final_guests, guests, on='guest', how='left')\n",
    "final_guests['price_final'] = final_guests['price'] * (1 - final_guests['discount'])"
   ]
  },
  {
   "cell_type": "code",
   "execution_count": 64,
   "id": "53fa529b-a1f6-4375-a14d-a26f7c039b86",
   "metadata": {},
   "outputs": [],
   "source": [
    "pivot_for_visualisation = df_visualisation(final_guests)"
   ]
  },
  {
   "cell_type": "code",
   "execution_count": null,
   "id": "eb3e3b52-b90b-445c-a7d6-b8a8d215e207",
   "metadata": {},
   "outputs": [],
   "source": [
    "plot_all_graphs(pivot_for_visualisation, categories)"
   ]
  },
  {
   "cell_type": "code",
   "execution_count": null,
   "id": "8b3e4a65-e617-4305-8da4-17f08f406c8c",
   "metadata": {},
   "outputs": [],
   "source": [
    "plot_satisfaction(final_guests)"
   ]
  },
  {
   "cell_type": "markdown",
   "id": "fdfda5e3-122e-4815-9035-028c0c254c58",
   "metadata": {},
   "source": [
    "Part 3"
   ]
  },
  {
   "cell_type": "markdown",
   "id": "91bc5671-fc89-43f9-ad51-c9d90d0c8af7",
   "metadata": {},
   "source": [
    "1. First, we check in all the cheapest hotels - sort the table with rooms hotels_new by price.\r\n",
    "2. For each hotel in order: get a list of guests based on order and priority.\r\n",
    "\r\n",
    "Create a dataset for each hotel - temporary. Create a cumulative dataset.\r\n",
    "\r\n",
    "For each hotel, select only those guests for whom this hotel is in the priorities. We get a dataset of the form \"hotel - guest - priority - rn\". Sort by priority, then by guest. Thus, first, the guests for whom the hotel is one of the best in terms of priority, by check-in order, and so on will be checked in. We want to avoid a situation in which a client who registered in the database earlier, but chose hotel X last in the priority list, will be checked in, despite the fact that the next guest chose this hotel, say, one of the best, but will not get into it. We reduce the risk of getting a low level of satisfaction with the check-in.\r\n",
    "\r\n",
    "It is also necessary to create datasets with checked-in and unchecked guests, so that in the new iteration we can access the changed list of guests - the dataset with guests will change."
   ]
  },
  {
   "cell_type": "code",
   "execution_count": 263,
   "id": "34cae0a9-d272-4b82-9b3d-fa48153347a3",
   "metadata": {},
   "outputs": [],
   "source": [
    "hotels_new = hotels_new.sort_values(by = ['price', 'hotel', 'room_number'])"
   ]
  },
  {
   "cell_type": "code",
   "execution_count": null,
   "id": "0c42c1f3-f3a9-4bad-a7f0-17c7bb8a369c",
   "metadata": {},
   "outputs": [],
   "source": [
    "checked_in_full = distribution_by_hotels('price', False)"
   ]
  },
  {
   "cell_type": "code",
   "execution_count": 281,
   "id": "6be58790-3c80-4f9f-af5f-9eda34a9e778",
   "metadata": {},
   "outputs": [],
   "source": [
    "pivot_for_visualisation = df_visualisation(checked_in_full)"
   ]
  },
  {
   "cell_type": "code",
   "execution_count": null,
   "id": "3a977f80-85a0-4f70-8602-1e084fb0c2d8",
   "metadata": {},
   "outputs": [],
   "source": [
    "plot_all_graphs(pivot_for_visualisation, categories)"
   ]
  },
  {
   "cell_type": "code",
   "execution_count": null,
   "id": "090a1638-2ee7-4968-80c0-2fe24cd0bec5",
   "metadata": {
    "scrolled": true
   },
   "outputs": [],
   "source": [
    "plot_satisfaction(checked_in_full)"
   ]
  },
  {
   "cell_type": "markdown",
   "id": "8dcc7ead-8e9e-4c0b-a2ed-1ecc63d193bf",
   "metadata": {},
   "source": [
    "Part 4"
   ]
  },
  {
   "cell_type": "code",
   "execution_count": 284,
   "id": "f70569c7-22ce-4cc1-b8c1-571ba2a40a72",
   "metadata": {},
   "outputs": [],
   "source": [
    "#sorted by availability starting with the most roomy hotel "
   ]
  },
  {
   "cell_type": "code",
   "execution_count": null,
   "id": "66f4b085-8a2b-4800-9176-1d34733b55d4",
   "metadata": {},
   "outputs": [],
   "source": [
    "checked_in_full = distribution_by_hotels('rooms', True)"
   ]
  },
  {
   "cell_type": "code",
   "execution_count": 291,
   "id": "81b155a3-de21-4761-a79b-270fe0fde8e4",
   "metadata": {},
   "outputs": [],
   "source": [
    "pivot_for_visualisation = df_visualisation(checked_in_full)"
   ]
  },
  {
   "cell_type": "code",
   "execution_count": null,
   "id": "8119a461-563f-422f-b4f4-c715a8f309b4",
   "metadata": {},
   "outputs": [],
   "source": [
    "plot_all_graphs(pivot_for_visualisation, categories)"
   ]
  },
  {
   "cell_type": "code",
   "execution_count": null,
   "id": "e3b1e177-a8bc-4fba-ae3b-c2f425399cbb",
   "metadata": {},
   "outputs": [],
   "source": [
    "plot_satisfaction(checked_in_full)"
   ]
  }
 ],
 "metadata": {
  "kernelspec": {
   "display_name": "Python 3 (ipykernel)",
   "language": "python",
   "name": "python3"
  },
  "language_info": {
   "codemirror_mode": {
    "name": "ipython",
    "version": 3
   },
   "file_extension": ".py",
   "mimetype": "text/x-python",
   "name": "python",
   "nbconvert_exporter": "python",
   "pygments_lexer": "ipython3",
   "version": "3.13.0"
  }
 },
 "nbformat": 4,
 "nbformat_minor": 5
}
